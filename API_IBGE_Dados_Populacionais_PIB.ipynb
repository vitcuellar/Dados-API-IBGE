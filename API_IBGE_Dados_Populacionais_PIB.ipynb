{
  "cells": [
    {
      "cell_type": "markdown",
      "metadata": {
        "id": "view-in-github",
        "colab_type": "text"
      },
      "source": [
        "<a href=\"https://colab.research.google.com/github/vitcuellar/Dados-API-IBGE/blob/main/API_IBGE_Dados_Populacionais_PIB.ipynb\" target=\"_parent\"><img src=\"https://colab.research.google.com/assets/colab-badge.svg\" alt=\"Open In Colab\"/></a>"
      ]
    },
    {
      "cell_type": "markdown",
      "metadata": {
        "application/vnd.databricks.v1+cell": {
          "cellMetadata": {
            "byteLimit": 2048000,
            "rowLimit": 10000
          },
          "inputWidgets": {},
          "nuid": "72d66fd2-e6bc-4f32-bde4-0c3dc3efd648",
          "showTitle": false,
          "title": ""
        },
        "id": "Cfyw9JW_jCHO"
      },
      "source": [
        "#Biblioteca"
      ]
    },
    {
      "cell_type": "code",
      "execution_count": null,
      "metadata": {
        "application/vnd.databricks.v1+cell": {
          "cellMetadata": {
            "byteLimit": 2048000,
            "rowLimit": 10000
          },
          "inputWidgets": {},
          "nuid": "28843c8c-10e1-49e8-818d-083153b1c035",
          "showTitle": false,
          "title": ""
        },
        "id": "yscYTeu8jCHS",
        "outputId": "cde7ccfa-c9bf-4354-c446-e1f01ada1299"
      },
      "outputs": [
        {
          "output_type": "display_data",
          "data": {
            "application/vnd.databricks.v1+bamboolib_hint": "{\"pd.DataFrames\": [], \"version\": \"0.0.1\"}",
            "text/plain": []
          },
          "metadata": {}
        }
      ],
      "source": [
        "import pandas as pd\n",
        "import requests\n",
        "import pprint\n",
        "import json"
      ]
    },
    {
      "cell_type": "markdown",
      "metadata": {
        "application/vnd.databricks.v1+cell": {
          "cellMetadata": {
            "byteLimit": 2048000,
            "rowLimit": 10000
          },
          "inputWidgets": {},
          "nuid": "6d24e1fb-687d-44e1-b4da-1c8a9b3bd00b",
          "showTitle": false,
          "title": ""
        },
        "id": "MA4KhjRAjCHV"
      },
      "source": [
        "#Dados de PIB"
      ]
    },
    {
      "cell_type": "markdown",
      "metadata": {
        "application/vnd.databricks.v1+cell": {
          "cellMetadata": {
            "byteLimit": 2048000,
            "rowLimit": 10000
          },
          "inputWidgets": {},
          "nuid": "c8306baf-95b5-4f25-b582-2b9e8bc54322",
          "showTitle": false,
          "title": ""
        },
        "id": "qeP72GnDjCHV"
      },
      "source": [
        "##PIB Recorrente Anual"
      ]
    },
    {
      "cell_type": "code",
      "execution_count": null,
      "metadata": {
        "application/vnd.databricks.v1+cell": {
          "cellMetadata": {
            "byteLimit": 2048000,
            "rowLimit": 10000
          },
          "inputWidgets": {},
          "nuid": "52687f05-227f-4d37-b88e-1d6dc36889ac",
          "showTitle": false,
          "title": ""
        },
        "id": "IR1N2PygjCHW",
        "outputId": "e498dafc-1556-468d-ad8c-91d08d7e11f2"
      },
      "outputs": [
        {
          "output_type": "stream",
          "name": "stdout",
          "text": [
            "Out[10]: [{'id': '9808',\n  'variavel': 'PIB - valores correntes',\n  'unidade': 'Milhões de Reais',\n  'resultados': [{'classificacoes': [],\n    'series': [{'localidade': {'id': '1',\n       'nivel': {'id': 'N1', 'nome': 'Brasil'},\n       'nome': 'Brasil'},\n      'serie': {'1996': '854764',\n       '1997': '952089',\n       '1998': '1002351',\n       '1999': '1087710',\n       '2000': '1199092',\n       '2001': '1315755',\n       '2002': '1488787',\n       '2003': '1717950',\n       '2004': '1957751',\n       '2005': '2170585',\n       '2006': '2409450',\n       '2007': '2720263',\n       '2008': '3109803',\n       '2009': '3333039',\n       '2010': '3885847',\n       '2011': '4376382',\n       '2012': '4814760',\n       '2013': '5331619',\n       '2014': '5778953',\n       '2015': '5995787',\n       '2016': '6269328',\n       '2017': '6585479',\n       '2018': '7004141',\n       '2019': '7389131',\n       '2020': '7609597',\n       '2021': '9012142'}}]}]}]"
          ]
        }
      ],
      "source": [
        "# Link da API do IBGE\n",
        "\n",
        "link_IBGE = \"https://servicodados.ibge.gov.br/api/v3/agregados/6784/periodos/1996|1997|1998|1999|2000|2001|2002|2003|2004|2005|2006|2007|2008|2009|2010|2011|2012|2013|2014|2015|2016|2017|2018|2019|2020|2021/variaveis/9808?localidades=N1[all]\"\n",
        "\n",
        "# Extração dos dados a partir do request\n",
        "\n",
        "requisicao = requests.get(link_IBGE)\n",
        "\n",
        "# Verifica se a requisição foi bem-sucedida\n",
        "\n",
        "if requisicao.status_code == 200:\n",
        "    # Converte a resposta em formato JSON para um dicionário\n",
        "    info_pib = requisicao.json()\n",
        "else:\n",
        "    print(\"Erro na requisição: \", response.status_code)\n",
        "\n",
        "# Visualização do JSON\n",
        "\n",
        "info_pib"
      ]
    },
    {
      "cell_type": "code",
      "execution_count": null,
      "metadata": {
        "application/vnd.databricks.v1+cell": {
          "cellMetadata": {
            "byteLimit": 2048000,
            "rowLimit": 10000
          },
          "inputWidgets": {},
          "nuid": "969b39ce-6a4d-42fc-a91a-e8474877439d",
          "showTitle": false,
          "title": ""
        },
        "id": "1wsszOOrjCHX",
        "outputId": "83f0b9f5-1e63-4be8-9b3b-9c5114b3ba04"
      },
      "outputs": [
        {
          "output_type": "display_data",
          "data": {
            "text/html": [
              "<div>\n",
              "<style scoped>\n",
              "    .dataframe tbody tr th:only-of-type {\n",
              "        vertical-align: middle;\n",
              "    }\n",
              "\n",
              "    .dataframe tbody tr th {\n",
              "        vertical-align: top;\n",
              "    }\n",
              "\n",
              "    .dataframe thead th {\n",
              "        text-align: right;\n",
              "    }\n",
              "</style>\n",
              "<table border=\"1\" class=\"dataframe\">\n",
              "  <thead>\n",
              "    <tr style=\"text-align: right;\">\n",
              "      <th></th>\n",
              "      <th>Ano</th>\n",
              "      <th>PIB</th>\n",
              "    </tr>\n",
              "  </thead>\n",
              "  <tbody>\n",
              "    <tr>\n",
              "      <th>0</th>\n",
              "      <td>1996</td>\n",
              "      <td>854764</td>\n",
              "    </tr>\n",
              "    <tr>\n",
              "      <th>1</th>\n",
              "      <td>1997</td>\n",
              "      <td>952089</td>\n",
              "    </tr>\n",
              "    <tr>\n",
              "      <th>2</th>\n",
              "      <td>1998</td>\n",
              "      <td>1002351</td>\n",
              "    </tr>\n",
              "    <tr>\n",
              "      <th>3</th>\n",
              "      <td>1999</td>\n",
              "      <td>1087710</td>\n",
              "    </tr>\n",
              "    <tr>\n",
              "      <th>4</th>\n",
              "      <td>2000</td>\n",
              "      <td>1199092</td>\n",
              "    </tr>\n",
              "    <tr>\n",
              "      <th>5</th>\n",
              "      <td>2001</td>\n",
              "      <td>1315755</td>\n",
              "    </tr>\n",
              "    <tr>\n",
              "      <th>6</th>\n",
              "      <td>2002</td>\n",
              "      <td>1488787</td>\n",
              "    </tr>\n",
              "    <tr>\n",
              "      <th>7</th>\n",
              "      <td>2003</td>\n",
              "      <td>1717950</td>\n",
              "    </tr>\n",
              "    <tr>\n",
              "      <th>8</th>\n",
              "      <td>2004</td>\n",
              "      <td>1957751</td>\n",
              "    </tr>\n",
              "    <tr>\n",
              "      <th>9</th>\n",
              "      <td>2005</td>\n",
              "      <td>2170585</td>\n",
              "    </tr>\n",
              "    <tr>\n",
              "      <th>10</th>\n",
              "      <td>2006</td>\n",
              "      <td>2409450</td>\n",
              "    </tr>\n",
              "    <tr>\n",
              "      <th>11</th>\n",
              "      <td>2007</td>\n",
              "      <td>2720263</td>\n",
              "    </tr>\n",
              "    <tr>\n",
              "      <th>12</th>\n",
              "      <td>2008</td>\n",
              "      <td>3109803</td>\n",
              "    </tr>\n",
              "    <tr>\n",
              "      <th>13</th>\n",
              "      <td>2009</td>\n",
              "      <td>3333039</td>\n",
              "    </tr>\n",
              "    <tr>\n",
              "      <th>14</th>\n",
              "      <td>2010</td>\n",
              "      <td>3885847</td>\n",
              "    </tr>\n",
              "    <tr>\n",
              "      <th>15</th>\n",
              "      <td>2011</td>\n",
              "      <td>4376382</td>\n",
              "    </tr>\n",
              "    <tr>\n",
              "      <th>16</th>\n",
              "      <td>2012</td>\n",
              "      <td>4814760</td>\n",
              "    </tr>\n",
              "    <tr>\n",
              "      <th>17</th>\n",
              "      <td>2013</td>\n",
              "      <td>5331619</td>\n",
              "    </tr>\n",
              "    <tr>\n",
              "      <th>18</th>\n",
              "      <td>2014</td>\n",
              "      <td>5778953</td>\n",
              "    </tr>\n",
              "    <tr>\n",
              "      <th>19</th>\n",
              "      <td>2015</td>\n",
              "      <td>5995787</td>\n",
              "    </tr>\n",
              "    <tr>\n",
              "      <th>20</th>\n",
              "      <td>2016</td>\n",
              "      <td>6269328</td>\n",
              "    </tr>\n",
              "    <tr>\n",
              "      <th>21</th>\n",
              "      <td>2017</td>\n",
              "      <td>6585479</td>\n",
              "    </tr>\n",
              "    <tr>\n",
              "      <th>22</th>\n",
              "      <td>2018</td>\n",
              "      <td>7004141</td>\n",
              "    </tr>\n",
              "    <tr>\n",
              "      <th>23</th>\n",
              "      <td>2019</td>\n",
              "      <td>7389131</td>\n",
              "    </tr>\n",
              "    <tr>\n",
              "      <th>24</th>\n",
              "      <td>2020</td>\n",
              "      <td>7609597</td>\n",
              "    </tr>\n",
              "    <tr>\n",
              "      <th>25</th>\n",
              "      <td>2021</td>\n",
              "      <td>9012142</td>\n",
              "    </tr>\n",
              "  </tbody>\n",
              "</table>\n",
              "</div>"
            ]
          },
          "metadata": {
            "application/vnd.databricks.v1+output": {
              "addedWidgets": {},
              "arguments": {},
              "data": "<div>\n<style scoped>\n    .dataframe tbody tr th:only-of-type {\n        vertical-align: middle;\n    }\n\n    .dataframe tbody tr th {\n        vertical-align: top;\n    }\n\n    .dataframe thead th {\n        text-align: right;\n    }\n</style>\n<table border=\"1\" class=\"dataframe\">\n  <thead>\n    <tr style=\"text-align: right;\">\n      <th></th>\n      <th>Ano</th>\n      <th>PIB</th>\n    </tr>\n  </thead>\n  <tbody>\n    <tr>\n      <th>0</th>\n      <td>1996</td>\n      <td>854764</td>\n    </tr>\n    <tr>\n      <th>1</th>\n      <td>1997</td>\n      <td>952089</td>\n    </tr>\n    <tr>\n      <th>2</th>\n      <td>1998</td>\n      <td>1002351</td>\n    </tr>\n    <tr>\n      <th>3</th>\n      <td>1999</td>\n      <td>1087710</td>\n    </tr>\n    <tr>\n      <th>4</th>\n      <td>2000</td>\n      <td>1199092</td>\n    </tr>\n    <tr>\n      <th>5</th>\n      <td>2001</td>\n      <td>1315755</td>\n    </tr>\n    <tr>\n      <th>6</th>\n      <td>2002</td>\n      <td>1488787</td>\n    </tr>\n    <tr>\n      <th>7</th>\n      <td>2003</td>\n      <td>1717950</td>\n    </tr>\n    <tr>\n      <th>8</th>\n      <td>2004</td>\n      <td>1957751</td>\n    </tr>\n    <tr>\n      <th>9</th>\n      <td>2005</td>\n      <td>2170585</td>\n    </tr>\n    <tr>\n      <th>10</th>\n      <td>2006</td>\n      <td>2409450</td>\n    </tr>\n    <tr>\n      <th>11</th>\n      <td>2007</td>\n      <td>2720263</td>\n    </tr>\n    <tr>\n      <th>12</th>\n      <td>2008</td>\n      <td>3109803</td>\n    </tr>\n    <tr>\n      <th>13</th>\n      <td>2009</td>\n      <td>3333039</td>\n    </tr>\n    <tr>\n      <th>14</th>\n      <td>2010</td>\n      <td>3885847</td>\n    </tr>\n    <tr>\n      <th>15</th>\n      <td>2011</td>\n      <td>4376382</td>\n    </tr>\n    <tr>\n      <th>16</th>\n      <td>2012</td>\n      <td>4814760</td>\n    </tr>\n    <tr>\n      <th>17</th>\n      <td>2013</td>\n      <td>5331619</td>\n    </tr>\n    <tr>\n      <th>18</th>\n      <td>2014</td>\n      <td>5778953</td>\n    </tr>\n    <tr>\n      <th>19</th>\n      <td>2015</td>\n      <td>5995787</td>\n    </tr>\n    <tr>\n      <th>20</th>\n      <td>2016</td>\n      <td>6269328</td>\n    </tr>\n    <tr>\n      <th>21</th>\n      <td>2017</td>\n      <td>6585479</td>\n    </tr>\n    <tr>\n      <th>22</th>\n      <td>2018</td>\n      <td>7004141</td>\n    </tr>\n    <tr>\n      <th>23</th>\n      <td>2019</td>\n      <td>7389131</td>\n    </tr>\n    <tr>\n      <th>24</th>\n      <td>2020</td>\n      <td>7609597</td>\n    </tr>\n    <tr>\n      <th>25</th>\n      <td>2021</td>\n      <td>9012142</td>\n    </tr>\n  </tbody>\n</table>\n</div>",
              "datasetInfos": [],
              "metadata": {},
              "removedWidgets": [],
              "textData": null,
              "type": "htmlSandbox"
            }
          }
        }
      ],
      "source": [
        "# Extração do array com os dados que queremos visualizar\n",
        "pib_recorrente = [info_pib[0][\"resultados\"][0][\"series\"][0][\"serie\"]]\n",
        "\n",
        "# Criar o DataFrame a partir do array\n",
        "db_pib_recorrente = pd.DataFrame(pib_recorrente)\n",
        "db_pib_recorrente = db_pib_recorrente.T\n",
        "\n",
        "# Renomear Colunas do DataFrame\n",
        "db_pib_recorrente.rename(columns={0: \"PIB\"}, inplace=True)\n",
        "db_pib_recorrente = db_pib_recorrente.rename_axis(\"Ano\").reset_index()\n",
        "\n",
        "# Tratamento de dados: formatação do formato do dado\n",
        "\n",
        "db_pib_recorrente[\"Ano\"] = db_pib_recorrente[\"Ano\"].astype(int)\n",
        "db_pib_recorrente[\"PIB\"] = db_pib_recorrente[\"PIB\"].astype(int)\n",
        "\n",
        "db_pib_recorrente"
      ]
    },
    {
      "cell_type": "markdown",
      "metadata": {
        "application/vnd.databricks.v1+cell": {
          "cellMetadata": {
            "byteLimit": 2048000,
            "rowLimit": 10000
          },
          "inputWidgets": {},
          "nuid": "11d5f028-8292-4b54-8f94-4b6313ada7d8",
          "showTitle": false,
          "title": ""
        },
        "id": "H4YLYLbujCHX"
      },
      "source": [
        "## PIB Per Capta Anual"
      ]
    },
    {
      "cell_type": "code",
      "execution_count": null,
      "metadata": {
        "application/vnd.databricks.v1+cell": {
          "cellMetadata": {
            "byteLimit": 2048000,
            "rowLimit": 10000
          },
          "inputWidgets": {},
          "nuid": "c1701a5b-fecf-41a7-9275-1cb3514837d6",
          "showTitle": false,
          "title": ""
        },
        "id": "b7JZNqQQjCHY",
        "outputId": "3b0d4307-d723-4d1a-d25f-69729363737e"
      },
      "outputs": [
        {
          "output_type": "stream",
          "name": "stdout",
          "text": [
            "Out[4]: [{'id': '9812',\n  'variavel': 'PIB per capita - valores correntes',\n  'unidade': 'Reais',\n  'resultados': [{'classificacoes': [],\n    'series': [{'localidade': {'id': '1',\n       'nivel': {'id': 'N1', 'nome': 'Brasil'},\n       'nome': 'Brasil'},\n      'serie': {'1996': '5219.36',\n       '1997': '5729.02',\n       '1998': '5944.92',\n       '1999': '6359.80',\n       '2000': '6900.62',\n       '2001': '7467.03',\n       '2002': '8340.58',\n       '2003': '9506.76',\n       '2004': '10705.99',\n       '2005': '11733.45',\n       '2006': '12880.52',\n       '2007': '14390.01',\n       '2008': '16280.82',\n       '2009': '17271.34',\n       '2010': '19938.60',\n       '2011': '22259.91',\n       '2012': '24278.35',\n       '2013': '26657.54',\n       '2014': '28648.74',\n       '2015': '29466.85',\n       '2016': '30558.75',\n       '2017': '31843.95',\n       '2018': '33593.82',\n       '2019': '35161.70',\n       '2020': '35935.69',\n       '2021': '42247.52'}}]}]}]"
          ]
        }
      ],
      "source": [
        "# Link da API do IBGE\n",
        "\n",
        "link_IBGE = \"https://servicodados.ibge.gov.br/api/v3/agregados/6784/periodos/1996|1997|1998|1999|2000|2001|2002|2003|2004|2005|2006|2007|2008|2009|2010|2011|2012|2013|2014|2015|2016|2017|2018|2019|2020|2021/variaveis/9812?localidades=N1[all]\"\n",
        "\n",
        "# Extração dos dados a partir do request\n",
        "\n",
        "requisicao = requests.get(link_IBGE)\n",
        "\n",
        "# Verifica se a requisição foi bem-sucedida\n",
        "\n",
        "if requisicao.status_code == 200:\n",
        "    # Converte a resposta em formato JSON para um dicionário\n",
        "    info_pib_per_capta = requisicao.json()\n",
        "else:\n",
        "    print(\"Erro na requisição: \", response.status_code)\n",
        "\n",
        "# Visualização do JSON\n",
        "\n",
        "info_pib_per_capta"
      ]
    },
    {
      "cell_type": "code",
      "execution_count": null,
      "metadata": {
        "application/vnd.databricks.v1+cell": {
          "cellMetadata": {
            "byteLimit": 2048000,
            "rowLimit": 10000
          },
          "inputWidgets": {},
          "nuid": "defc18bd-24d4-46ad-a8a8-5c4d144653e1",
          "showTitle": false,
          "title": ""
        },
        "id": "wrsT-vRHjCHY",
        "outputId": "3f0ecb2b-bb2b-4493-acdc-25238c434903"
      },
      "outputs": [
        {
          "output_type": "display_data",
          "data": {
            "text/html": [
              "<div>\n",
              "<style scoped>\n",
              "    .dataframe tbody tr th:only-of-type {\n",
              "        vertical-align: middle;\n",
              "    }\n",
              "\n",
              "    .dataframe tbody tr th {\n",
              "        vertical-align: top;\n",
              "    }\n",
              "\n",
              "    .dataframe thead th {\n",
              "        text-align: right;\n",
              "    }\n",
              "</style>\n",
              "<table border=\"1\" class=\"dataframe\">\n",
              "  <thead>\n",
              "    <tr style=\"text-align: right;\">\n",
              "      <th></th>\n",
              "      <th>Ano</th>\n",
              "      <th>PIB_Per_Capta</th>\n",
              "    </tr>\n",
              "  </thead>\n",
              "  <tbody>\n",
              "    <tr>\n",
              "      <th>0</th>\n",
              "      <td>1996</td>\n",
              "      <td>5219.36</td>\n",
              "    </tr>\n",
              "    <tr>\n",
              "      <th>1</th>\n",
              "      <td>1997</td>\n",
              "      <td>5729.02</td>\n",
              "    </tr>\n",
              "    <tr>\n",
              "      <th>2</th>\n",
              "      <td>1998</td>\n",
              "      <td>5944.92</td>\n",
              "    </tr>\n",
              "    <tr>\n",
              "      <th>3</th>\n",
              "      <td>1999</td>\n",
              "      <td>6359.80</td>\n",
              "    </tr>\n",
              "    <tr>\n",
              "      <th>4</th>\n",
              "      <td>2000</td>\n",
              "      <td>6900.62</td>\n",
              "    </tr>\n",
              "    <tr>\n",
              "      <th>5</th>\n",
              "      <td>2001</td>\n",
              "      <td>7467.03</td>\n",
              "    </tr>\n",
              "    <tr>\n",
              "      <th>6</th>\n",
              "      <td>2002</td>\n",
              "      <td>8340.58</td>\n",
              "    </tr>\n",
              "    <tr>\n",
              "      <th>7</th>\n",
              "      <td>2003</td>\n",
              "      <td>9506.76</td>\n",
              "    </tr>\n",
              "    <tr>\n",
              "      <th>8</th>\n",
              "      <td>2004</td>\n",
              "      <td>10705.99</td>\n",
              "    </tr>\n",
              "    <tr>\n",
              "      <th>9</th>\n",
              "      <td>2005</td>\n",
              "      <td>11733.45</td>\n",
              "    </tr>\n",
              "    <tr>\n",
              "      <th>10</th>\n",
              "      <td>2006</td>\n",
              "      <td>12880.52</td>\n",
              "    </tr>\n",
              "    <tr>\n",
              "      <th>11</th>\n",
              "      <td>2007</td>\n",
              "      <td>14390.01</td>\n",
              "    </tr>\n",
              "    <tr>\n",
              "      <th>12</th>\n",
              "      <td>2008</td>\n",
              "      <td>16280.82</td>\n",
              "    </tr>\n",
              "    <tr>\n",
              "      <th>13</th>\n",
              "      <td>2009</td>\n",
              "      <td>17271.34</td>\n",
              "    </tr>\n",
              "    <tr>\n",
              "      <th>14</th>\n",
              "      <td>2010</td>\n",
              "      <td>19938.60</td>\n",
              "    </tr>\n",
              "    <tr>\n",
              "      <th>15</th>\n",
              "      <td>2011</td>\n",
              "      <td>22259.91</td>\n",
              "    </tr>\n",
              "    <tr>\n",
              "      <th>16</th>\n",
              "      <td>2012</td>\n",
              "      <td>24278.35</td>\n",
              "    </tr>\n",
              "    <tr>\n",
              "      <th>17</th>\n",
              "      <td>2013</td>\n",
              "      <td>26657.54</td>\n",
              "    </tr>\n",
              "    <tr>\n",
              "      <th>18</th>\n",
              "      <td>2014</td>\n",
              "      <td>28648.74</td>\n",
              "    </tr>\n",
              "    <tr>\n",
              "      <th>19</th>\n",
              "      <td>2015</td>\n",
              "      <td>29466.85</td>\n",
              "    </tr>\n",
              "    <tr>\n",
              "      <th>20</th>\n",
              "      <td>2016</td>\n",
              "      <td>30558.75</td>\n",
              "    </tr>\n",
              "    <tr>\n",
              "      <th>21</th>\n",
              "      <td>2017</td>\n",
              "      <td>31843.95</td>\n",
              "    </tr>\n",
              "    <tr>\n",
              "      <th>22</th>\n",
              "      <td>2018</td>\n",
              "      <td>33593.82</td>\n",
              "    </tr>\n",
              "    <tr>\n",
              "      <th>23</th>\n",
              "      <td>2019</td>\n",
              "      <td>35161.70</td>\n",
              "    </tr>\n",
              "    <tr>\n",
              "      <th>24</th>\n",
              "      <td>2020</td>\n",
              "      <td>35935.69</td>\n",
              "    </tr>\n",
              "    <tr>\n",
              "      <th>25</th>\n",
              "      <td>2021</td>\n",
              "      <td>42247.52</td>\n",
              "    </tr>\n",
              "  </tbody>\n",
              "</table>\n",
              "</div>"
            ]
          },
          "metadata": {
            "application/vnd.databricks.v1+output": {
              "addedWidgets": {},
              "arguments": {},
              "data": "<div>\n<style scoped>\n    .dataframe tbody tr th:only-of-type {\n        vertical-align: middle;\n    }\n\n    .dataframe tbody tr th {\n        vertical-align: top;\n    }\n\n    .dataframe thead th {\n        text-align: right;\n    }\n</style>\n<table border=\"1\" class=\"dataframe\">\n  <thead>\n    <tr style=\"text-align: right;\">\n      <th></th>\n      <th>Ano</th>\n      <th>PIB_Per_Capta</th>\n    </tr>\n  </thead>\n  <tbody>\n    <tr>\n      <th>0</th>\n      <td>1996</td>\n      <td>5219.36</td>\n    </tr>\n    <tr>\n      <th>1</th>\n      <td>1997</td>\n      <td>5729.02</td>\n    </tr>\n    <tr>\n      <th>2</th>\n      <td>1998</td>\n      <td>5944.92</td>\n    </tr>\n    <tr>\n      <th>3</th>\n      <td>1999</td>\n      <td>6359.80</td>\n    </tr>\n    <tr>\n      <th>4</th>\n      <td>2000</td>\n      <td>6900.62</td>\n    </tr>\n    <tr>\n      <th>5</th>\n      <td>2001</td>\n      <td>7467.03</td>\n    </tr>\n    <tr>\n      <th>6</th>\n      <td>2002</td>\n      <td>8340.58</td>\n    </tr>\n    <tr>\n      <th>7</th>\n      <td>2003</td>\n      <td>9506.76</td>\n    </tr>\n    <tr>\n      <th>8</th>\n      <td>2004</td>\n      <td>10705.99</td>\n    </tr>\n    <tr>\n      <th>9</th>\n      <td>2005</td>\n      <td>11733.45</td>\n    </tr>\n    <tr>\n      <th>10</th>\n      <td>2006</td>\n      <td>12880.52</td>\n    </tr>\n    <tr>\n      <th>11</th>\n      <td>2007</td>\n      <td>14390.01</td>\n    </tr>\n    <tr>\n      <th>12</th>\n      <td>2008</td>\n      <td>16280.82</td>\n    </tr>\n    <tr>\n      <th>13</th>\n      <td>2009</td>\n      <td>17271.34</td>\n    </tr>\n    <tr>\n      <th>14</th>\n      <td>2010</td>\n      <td>19938.60</td>\n    </tr>\n    <tr>\n      <th>15</th>\n      <td>2011</td>\n      <td>22259.91</td>\n    </tr>\n    <tr>\n      <th>16</th>\n      <td>2012</td>\n      <td>24278.35</td>\n    </tr>\n    <tr>\n      <th>17</th>\n      <td>2013</td>\n      <td>26657.54</td>\n    </tr>\n    <tr>\n      <th>18</th>\n      <td>2014</td>\n      <td>28648.74</td>\n    </tr>\n    <tr>\n      <th>19</th>\n      <td>2015</td>\n      <td>29466.85</td>\n    </tr>\n    <tr>\n      <th>20</th>\n      <td>2016</td>\n      <td>30558.75</td>\n    </tr>\n    <tr>\n      <th>21</th>\n      <td>2017</td>\n      <td>31843.95</td>\n    </tr>\n    <tr>\n      <th>22</th>\n      <td>2018</td>\n      <td>33593.82</td>\n    </tr>\n    <tr>\n      <th>23</th>\n      <td>2019</td>\n      <td>35161.70</td>\n    </tr>\n    <tr>\n      <th>24</th>\n      <td>2020</td>\n      <td>35935.69</td>\n    </tr>\n    <tr>\n      <th>25</th>\n      <td>2021</td>\n      <td>42247.52</td>\n    </tr>\n  </tbody>\n</table>\n</div>",
              "datasetInfos": [],
              "metadata": {},
              "removedWidgets": [],
              "textData": null,
              "type": "htmlSandbox"
            }
          }
        }
      ],
      "source": [
        "# Extração do array\n",
        "pib_recorrente_per_capta = [\n",
        "    info_pib_per_capta[0][\"resultados\"][0][\"series\"][0][\"serie\"]\n",
        "]\n",
        "\n",
        "# Criar o DataFrame a partir do array\n",
        "db_pib_recorrente_per_capta = pd.DataFrame(pib_recorrente_per_capta)\n",
        "db_pib_recorrente_per_capta = db_pib_recorrente_per_capta.T\n",
        "\n",
        "# Renomear Colunas do DataFrame\n",
        "db_pib_recorrente_per_capta.rename(columns={0: \"PIB_Per_Capta\"}, inplace=True)\n",
        "db_pib_recorrente_per_capta = db_pib_recorrente_per_capta.rename_axis(\n",
        "    \"Ano\"\n",
        ").reset_index()\n",
        "\n",
        "# Tratamento de dados: formatação das colunas e formato do dado\n",
        "\n",
        "db_pib_recorrente_per_capta[\"Ano\"] = db_pib_recorrente_per_capta[\"Ano\"].astype(int)\n",
        "db_pib_recorrente_per_capta[\"PIB_Per_Capta\"] = db_pib_recorrente_per_capta[\n",
        "    \"PIB_Per_Capta\"\n",
        "].astype(float)\n",
        "\n",
        "db_pib_recorrente_per_capta"
      ]
    },
    {
      "cell_type": "markdown",
      "metadata": {
        "application/vnd.databricks.v1+cell": {
          "cellMetadata": {
            "byteLimit": 2048000,
            "rowLimit": 10000
          },
          "inputWidgets": {},
          "nuid": "84b00ed8-8337-484a-8398-3daba93c8a2a",
          "showTitle": false,
          "title": ""
        },
        "id": "q5LwUGKWjCHZ"
      },
      "source": [
        "#Dados Populacionais"
      ]
    },
    {
      "cell_type": "markdown",
      "metadata": {
        "application/vnd.databricks.v1+cell": {
          "cellMetadata": {
            "byteLimit": 2048000,
            "rowLimit": 10000
          },
          "inputWidgets": {},
          "nuid": "581794b6-19e8-46df-8010-45cf082fee04",
          "showTitle": false,
          "title": ""
        },
        "id": "rg0aCGzAjCHZ"
      },
      "source": [
        "##População residente"
      ]
    },
    {
      "cell_type": "code",
      "execution_count": null,
      "metadata": {
        "application/vnd.databricks.v1+cell": {
          "cellMetadata": {
            "byteLimit": 2048000,
            "rowLimit": 10000
          },
          "inputWidgets": {},
          "nuid": "e219c83d-8f75-4da8-a4b5-cdf038df3b4c",
          "showTitle": false,
          "title": ""
        },
        "id": "HuHA9MRLjCHa",
        "outputId": "2c486300-44af-4125-88d8-6645e735e720"
      },
      "outputs": [
        {
          "output_type": "stream",
          "name": "stdout",
          "text": [
            "Out[4]: [{'id': '93',\n  'variavel': 'População residente',\n  'unidade': 'Mil pessoas',\n  'resultados': [{'classificacoes': [],\n    'series': [{'localidade': {'id': '1',\n       'nivel': {'id': 'N1', 'nome': 'Brasil'},\n       'nome': 'Brasil'},\n      'serie': {'1996': '163768',\n       '1997': '166187',\n       '1998': '168606',\n       '1999': '171029',\n       '2000': '173766',\n       '2001': '176209',\n       '2002': '178499',\n       '2003': '180708',\n       '2004': '182865',\n       '2005': '184991',\n       '2006': '187062',\n       '2007': '189038',\n       '2008': '191010',\n       '2009': '192981',\n       '2010': '194891',\n       '2011': '196604',\n       '2012': '198315',\n       '2013': '200004',\n       '2014': '201718',\n       '2015': '203476',\n       '2016': '205157',\n       '2017': '206805',\n       '2018': '208495',\n       '2019': '210147',\n       '2020': '211756',\n       '2021': '213318'}}]}]}]"
          ]
        }
      ],
      "source": [
        "# https://servicodados.ibge.gov.br/api\n",
        "link_IBGE = \"https://servicodados.ibge.gov.br/api/v3/agregados/6784/periodos/1996|1997|1998|1999|2000|2001|2002|2003|2004|2005|2006|2007|2008|2009|2010|2011|2012|2013|2014|2015|2016|2017|2018|2019|2020|2021/variaveis/93?localidades=N1[all]\"\n",
        "\n",
        "requisicao = requests.get(link_IBGE)\n",
        "\n",
        "# Verifica se a requisição foi bem-sucedida\n",
        "if requisicao.status_code == 200:\n",
        "    # Converte a resposta em formato JSON para um dicionário\n",
        "    info_populacao_residente = requisicao.json()\n",
        "else:\n",
        "    print(\"Erro na requisição: \", response.status_code)\n",
        "\n",
        "info_populacao_residente"
      ]
    },
    {
      "cell_type": "code",
      "execution_count": null,
      "metadata": {
        "application/vnd.databricks.v1+cell": {
          "cellMetadata": {
            "byteLimit": 2048000,
            "rowLimit": 10000
          },
          "inputWidgets": {},
          "nuid": "d3118fc7-2a55-4dd1-9f1c-527d3f593052",
          "showTitle": false,
          "title": ""
        },
        "id": "ACm7tAenjCHa",
        "outputId": "958e492f-ef82-40f7-f707-3d5a0d6d8247"
      },
      "outputs": [
        {
          "output_type": "display_data",
          "data": {
            "text/html": [
              "<div>\n",
              "<style scoped>\n",
              "    .dataframe tbody tr th:only-of-type {\n",
              "        vertical-align: middle;\n",
              "    }\n",
              "\n",
              "    .dataframe tbody tr th {\n",
              "        vertical-align: top;\n",
              "    }\n",
              "\n",
              "    .dataframe thead th {\n",
              "        text-align: right;\n",
              "    }\n",
              "</style>\n",
              "<table border=\"1\" class=\"dataframe\">\n",
              "  <thead>\n",
              "    <tr style=\"text-align: right;\">\n",
              "      <th></th>\n",
              "      <th>Ano</th>\n",
              "      <th>Populacao_residente</th>\n",
              "    </tr>\n",
              "  </thead>\n",
              "  <tbody>\n",
              "    <tr>\n",
              "      <th>0</th>\n",
              "      <td>1996</td>\n",
              "      <td>163768</td>\n",
              "    </tr>\n",
              "    <tr>\n",
              "      <th>1</th>\n",
              "      <td>1997</td>\n",
              "      <td>166187</td>\n",
              "    </tr>\n",
              "    <tr>\n",
              "      <th>2</th>\n",
              "      <td>1998</td>\n",
              "      <td>168606</td>\n",
              "    </tr>\n",
              "    <tr>\n",
              "      <th>3</th>\n",
              "      <td>1999</td>\n",
              "      <td>171029</td>\n",
              "    </tr>\n",
              "    <tr>\n",
              "      <th>4</th>\n",
              "      <td>2000</td>\n",
              "      <td>173766</td>\n",
              "    </tr>\n",
              "    <tr>\n",
              "      <th>5</th>\n",
              "      <td>2001</td>\n",
              "      <td>176209</td>\n",
              "    </tr>\n",
              "    <tr>\n",
              "      <th>6</th>\n",
              "      <td>2002</td>\n",
              "      <td>178499</td>\n",
              "    </tr>\n",
              "    <tr>\n",
              "      <th>7</th>\n",
              "      <td>2003</td>\n",
              "      <td>180708</td>\n",
              "    </tr>\n",
              "    <tr>\n",
              "      <th>8</th>\n",
              "      <td>2004</td>\n",
              "      <td>182865</td>\n",
              "    </tr>\n",
              "    <tr>\n",
              "      <th>9</th>\n",
              "      <td>2005</td>\n",
              "      <td>184991</td>\n",
              "    </tr>\n",
              "    <tr>\n",
              "      <th>10</th>\n",
              "      <td>2006</td>\n",
              "      <td>187062</td>\n",
              "    </tr>\n",
              "    <tr>\n",
              "      <th>11</th>\n",
              "      <td>2007</td>\n",
              "      <td>189038</td>\n",
              "    </tr>\n",
              "    <tr>\n",
              "      <th>12</th>\n",
              "      <td>2008</td>\n",
              "      <td>191010</td>\n",
              "    </tr>\n",
              "    <tr>\n",
              "      <th>13</th>\n",
              "      <td>2009</td>\n",
              "      <td>192981</td>\n",
              "    </tr>\n",
              "    <tr>\n",
              "      <th>14</th>\n",
              "      <td>2010</td>\n",
              "      <td>194891</td>\n",
              "    </tr>\n",
              "    <tr>\n",
              "      <th>15</th>\n",
              "      <td>2011</td>\n",
              "      <td>196604</td>\n",
              "    </tr>\n",
              "    <tr>\n",
              "      <th>16</th>\n",
              "      <td>2012</td>\n",
              "      <td>198315</td>\n",
              "    </tr>\n",
              "    <tr>\n",
              "      <th>17</th>\n",
              "      <td>2013</td>\n",
              "      <td>200004</td>\n",
              "    </tr>\n",
              "    <tr>\n",
              "      <th>18</th>\n",
              "      <td>2014</td>\n",
              "      <td>201718</td>\n",
              "    </tr>\n",
              "    <tr>\n",
              "      <th>19</th>\n",
              "      <td>2015</td>\n",
              "      <td>203476</td>\n",
              "    </tr>\n",
              "    <tr>\n",
              "      <th>20</th>\n",
              "      <td>2016</td>\n",
              "      <td>205157</td>\n",
              "    </tr>\n",
              "    <tr>\n",
              "      <th>21</th>\n",
              "      <td>2017</td>\n",
              "      <td>206805</td>\n",
              "    </tr>\n",
              "    <tr>\n",
              "      <th>22</th>\n",
              "      <td>2018</td>\n",
              "      <td>208495</td>\n",
              "    </tr>\n",
              "    <tr>\n",
              "      <th>23</th>\n",
              "      <td>2019</td>\n",
              "      <td>210147</td>\n",
              "    </tr>\n",
              "    <tr>\n",
              "      <th>24</th>\n",
              "      <td>2020</td>\n",
              "      <td>211756</td>\n",
              "    </tr>\n",
              "    <tr>\n",
              "      <th>25</th>\n",
              "      <td>2021</td>\n",
              "      <td>213318</td>\n",
              "    </tr>\n",
              "  </tbody>\n",
              "</table>\n",
              "</div>"
            ]
          },
          "metadata": {
            "application/vnd.databricks.v1+output": {
              "addedWidgets": {},
              "arguments": {},
              "data": "<div>\n<style scoped>\n    .dataframe tbody tr th:only-of-type {\n        vertical-align: middle;\n    }\n\n    .dataframe tbody tr th {\n        vertical-align: top;\n    }\n\n    .dataframe thead th {\n        text-align: right;\n    }\n</style>\n<table border=\"1\" class=\"dataframe\">\n  <thead>\n    <tr style=\"text-align: right;\">\n      <th></th>\n      <th>Ano</th>\n      <th>Populacao_residente</th>\n    </tr>\n  </thead>\n  <tbody>\n    <tr>\n      <th>0</th>\n      <td>1996</td>\n      <td>163768</td>\n    </tr>\n    <tr>\n      <th>1</th>\n      <td>1997</td>\n      <td>166187</td>\n    </tr>\n    <tr>\n      <th>2</th>\n      <td>1998</td>\n      <td>168606</td>\n    </tr>\n    <tr>\n      <th>3</th>\n      <td>1999</td>\n      <td>171029</td>\n    </tr>\n    <tr>\n      <th>4</th>\n      <td>2000</td>\n      <td>173766</td>\n    </tr>\n    <tr>\n      <th>5</th>\n      <td>2001</td>\n      <td>176209</td>\n    </tr>\n    <tr>\n      <th>6</th>\n      <td>2002</td>\n      <td>178499</td>\n    </tr>\n    <tr>\n      <th>7</th>\n      <td>2003</td>\n      <td>180708</td>\n    </tr>\n    <tr>\n      <th>8</th>\n      <td>2004</td>\n      <td>182865</td>\n    </tr>\n    <tr>\n      <th>9</th>\n      <td>2005</td>\n      <td>184991</td>\n    </tr>\n    <tr>\n      <th>10</th>\n      <td>2006</td>\n      <td>187062</td>\n    </tr>\n    <tr>\n      <th>11</th>\n      <td>2007</td>\n      <td>189038</td>\n    </tr>\n    <tr>\n      <th>12</th>\n      <td>2008</td>\n      <td>191010</td>\n    </tr>\n    <tr>\n      <th>13</th>\n      <td>2009</td>\n      <td>192981</td>\n    </tr>\n    <tr>\n      <th>14</th>\n      <td>2010</td>\n      <td>194891</td>\n    </tr>\n    <tr>\n      <th>15</th>\n      <td>2011</td>\n      <td>196604</td>\n    </tr>\n    <tr>\n      <th>16</th>\n      <td>2012</td>\n      <td>198315</td>\n    </tr>\n    <tr>\n      <th>17</th>\n      <td>2013</td>\n      <td>200004</td>\n    </tr>\n    <tr>\n      <th>18</th>\n      <td>2014</td>\n      <td>201718</td>\n    </tr>\n    <tr>\n      <th>19</th>\n      <td>2015</td>\n      <td>203476</td>\n    </tr>\n    <tr>\n      <th>20</th>\n      <td>2016</td>\n      <td>205157</td>\n    </tr>\n    <tr>\n      <th>21</th>\n      <td>2017</td>\n      <td>206805</td>\n    </tr>\n    <tr>\n      <th>22</th>\n      <td>2018</td>\n      <td>208495</td>\n    </tr>\n    <tr>\n      <th>23</th>\n      <td>2019</td>\n      <td>210147</td>\n    </tr>\n    <tr>\n      <th>24</th>\n      <td>2020</td>\n      <td>211756</td>\n    </tr>\n    <tr>\n      <th>25</th>\n      <td>2021</td>\n      <td>213318</td>\n    </tr>\n  </tbody>\n</table>\n</div>",
              "datasetInfos": [],
              "metadata": {},
              "removedWidgets": [],
              "textData": null,
              "type": "htmlSandbox"
            }
          }
        }
      ],
      "source": [
        "# Extração do array com os dados que queremos visualizar\n",
        "populacao_residente = [\n",
        "    info_populacao_residente[0][\"resultados\"][0][\"series\"][0][\"serie\"]\n",
        "]\n",
        "\n",
        "# Criar o DataFrame a partir do array\n",
        "df__populacao_residente = pd.DataFrame(populacao_residente)\n",
        "df__populacao_residente = df__populacao_residente.T\n",
        "\n",
        "# Renomear Colunas do DataFrame\n",
        "df__populacao_residente.rename(columns={0: \"Populacao_residente\"}, inplace=True)\n",
        "df__populacao_residente = df__populacao_residente.rename_axis(\"Ano\").reset_index()\n",
        "\n",
        "# Tratamento de dados: formatação das colunas e formato do dado\n",
        "\n",
        "df__populacao_residente[\"Ano\"] = df__populacao_residente[\"Ano\"].astype(int)\n",
        "df__populacao_residente[\"Populacao_residente\"] = df__populacao_residente[\n",
        "    \"Populacao_residente\"\n",
        "].astype(int)\n",
        "\n",
        "\n",
        "df__populacao_residente"
      ]
    },
    {
      "cell_type": "markdown",
      "metadata": {
        "application/vnd.databricks.v1+cell": {
          "cellMetadata": {
            "byteLimit": 2048000,
            "rowLimit": 10000
          },
          "inputWidgets": {},
          "nuid": "9570c85c-4ea2-42da-b90c-5bfdfe216d27",
          "showTitle": false,
          "title": ""
        },
        "id": "hxpxLC7EjCHb"
      },
      "source": [
        "#(1209) População por grupo de idade"
      ]
    },
    {
      "cell_type": "code",
      "execution_count": null,
      "metadata": {
        "application/vnd.databricks.v1+cell": {
          "cellMetadata": {
            "byteLimit": 2048000,
            "rowLimit": 10000
          },
          "inputWidgets": {},
          "nuid": "8a0ea0a7-9e08-46e7-b6c5-cf57db2ea3ae",
          "showTitle": false,
          "title": ""
        },
        "id": "m7k7r35QjCHb",
        "outputId": "15bba57b-9313-4de8-9aaa-d835fd4f66a8"
      },
      "outputs": [
        {
          "output_type": "stream",
          "name": "stdout",
          "text": [
            "[{'classificacoes': [{'categoria': {'1140': '0 a 4 anos'},\n                      'id': '58',\n                      'nome': 'Grupo de idade'}],\n  'series': [{'localidade': {'id': '1',\n                             'nivel': {'id': 'N1', 'nome': 'Brasil'},\n                             'nome': 'Brasil'},\n              'serie': {'1900': '3001523',\n                        '1920': '4593163',\n                        '1940': '6439650',\n                        '1950': '8370880',\n                        '1960': '11193389',\n                        '1970': '13811806',\n                        '1980': '16423700',\n                        '1991': '16521114',\n                        '2000': '16375728',\n                        '2010': '13796158',\n                        '2022': '12704860'}},\n             {'localidade': {'id': '1',\n                             'nivel': {'id': 'N2', 'nome': 'Grande Região'},\n                             'nome': 'Norte'},\n              'serie': {'1900': '...',\n                        '1920': '...',\n                        '1940': '...',\n                        '1950': '...',\n                        '1960': '...',\n                        '1970': '...',\n                        '1980': '...',\n                        '1991': '...',\n                        '2000': '...',\n                        '2010': '...',\n                        '2022': '1413023'}}]},\n {'classificacoes': [{'categoria': {'1141': '5 a 9 anos'},\n                      'id': '58',\n                      'nome': 'Grupo de idade'}],\n  'series': [{'localidade': {'id': '1',\n                             'nivel': {'id': 'N1', 'nome': 'Brasil'},\n                             'nome': 'Brasil'},\n              'serie': {'1900': '2622485',\n                        '1920': '4575530',\n                        '1940': '5758816',\n                        '1950': '7015527',\n                        '1960': '10158423',\n                        '1970': '13459508',\n                        '1980': '14773741',\n                        '1991': '17420159',\n                        '2000': '16542327',\n                        '2010': '14969375',\n                        '2022': '13749440'}},\n             {'localidade': {'id': '1',\n                             'nivel': {'id': 'N2', 'nome': 'Grande Região'},\n                             'nome': 'Norte'},\n              'serie': {'1900': '...',\n                        '1920': '...',\n                        '1940': '...',\n                        '1950': '...',\n                        '1960': '...',\n                        '1970': '...',\n                        '1980': '...',\n                        '1991': '...',\n                        '2000': '...',\n                        '2010': '...',\n                        '2022': '1477405'}}]},\n {'classificacoes': [{'categoria': {'1143': '15 a 19 anos'},\n                      'id': '58',\n                      'nome': 'Grupo de idade'}],\n  'series': [{'localidade': {'id': '1',\n                             'nivel': {'id': 'N1', 'nome': 'Brasil'},\n                             'nome': 'Brasil'},\n              'serie': {'1900': '1862761',\n                        '1920': '4217917',\n                        '1940': '4443923',\n                        '1950': '5502315',\n                        '1960': '7174811',\n                        '1970': '10253283',\n                        '1980': '13575971',\n                        '1991': '15017472',\n                        '2000': '17939815',\n                        '2010': '16990872',\n                        '2022': '14375942'}},\n             {'localidade': {'id': '1',\n                             'nivel': {'id': 'N2', 'nome': 'Grande Região'},\n                             'nome': 'Norte'},\n              'serie': {'1900': '...',\n                        '1920': '...',\n                        '1940': '...',\n                        '1950': '...',\n                        '1960': '...',\n                        '1970': '...',\n                        '1980': '...',\n                        '1991': '...',\n                        '2000': '...',\n                        '2010': '...',\n                        '2022': '1545379'}}]},\n {'classificacoes': [{'categoria': {'1144': '20 a 24 anos'},\n                      'id': '58',\n                      'nome': 'Grupo de idade'}],\n  'series': [{'localidade': {'id': '1',\n                             'nivel': {'id': 'N1', 'nome': 'Brasil'},\n                             'nome': 'Brasil'},\n              'serie': {'1900': '1573072',\n                        '1920': '2139364',\n                        '1940': '3813355',\n                        '1950': '4991139',\n                        '1960': '6237920',\n                        '1970': '8285805',\n                        '1980': '11513220',\n                        '1991': '13564878',\n                        '2000': '16141515',\n                        '2010': '17245192',\n                        '2022': '15466463'}},\n             {'localidade': {'id': '1',\n                             'nivel': {'id': 'N2', 'nome': 'Grande Região'},\n                             'nome': 'Norte'},\n              'serie': {'1900': '...',\n                        '1920': '...',\n                        '1940': '...',\n                        '1950': '...',\n                        '1960': '...',\n                        '1970': '...',\n                        '1980': '...',\n                        '1991': '...',\n                        '2000': '...',\n                        '2010': '...',\n                        '2022': '1524097'}}]},\n {'classificacoes': [{'categoria': {'1145': '25 a 29 anos'},\n                      'id': '58',\n                      'nome': 'Grupo de idade'}],\n  'series': [{'localidade': {'id': '1',\n                             'nivel': {'id': 'N1', 'nome': 'Brasil'},\n                             'nome': 'Brasil'},\n              'serie': {'1900': '1453300',\n                        '1920': '2487431',\n                        '1940': '3356370',\n                        '1950': '4132271',\n                        '1960': '5245848',\n                        '1970': '6504069',\n                        '1980': '9442217',\n                        '1991': '12638078',\n                        '2000': '13849665',\n                        '2010': '17104414',\n                        '2022': '15469723'}},\n             {'localidade': {'id': '1',\n                             'nivel': {'id': 'N2', 'nome': 'Grande Região'},\n                             'nome': 'Norte'},\n              'serie': {'1900': '...',\n                        '1920': '...',\n                        '1940': '...',\n                        '1950': '...',\n                        '1960': '...',\n                        '1970': '...',\n                        '1980': '...',\n                        '1991': '...',\n                        '2000': '...',\n                        '2010': '...',\n                        '2022': '1429726'}}]},\n {'classificacoes': [{'categoria': {'3299': '30 a 39 anos'},\n                      'id': '58',\n                      'nome': 'Grupo de idade'}],\n  'series': [{'localidade': {'id': '1',\n                             'nivel': {'id': 'N1', 'nome': 'Brasil'},\n                             'nome': 'Brasil'},\n              'serie': {'1900': '2040009',\n                        '1920': '3560225',\n                        '1940': '4901682',\n                        '1950': '6286052',\n                        '1960': '8486378',\n                        '1970': '10754252',\n                        '1980': '14039109',\n                        '1991': '20527256',\n                        '2000': '25290473',\n                        '2010': '29633091',\n                        '2022': '31645908'}},\n             {'localidade': {'id': '1',\n                             'nivel': {'id': 'N2', 'nome': 'Grande Região'},\n                             'nome': 'Norte'},\n              'serie': {'1900': '...',\n                        '1920': '...',\n                        '1940': '...',\n                        '1950': '...',\n                        '1960': '...',\n                        '1970': '...',\n                        '1980': '...',\n                        '1991': '...',\n                        '2000': '...',\n                        '2010': '...',\n                        '2022': '2715405'}}]},\n {'classificacoes': [{'categoria': {'3300': '40 a 49 anos'},\n                      'id': '58',\n                      'nome': 'Grupo de idade'}],\n  'series': [{'localidade': {'id': '1',\n                             'nivel': {'id': 'N1', 'nome': 'Brasil'},\n                             'nome': 'Brasil'},\n              'serie': {'1900': '1350029',\n                        '1920': '2401200',\n                        '1940': '3441727',\n                        '1950': '4365359',\n                        '1960': '5950688',\n                        '1970': '8082277',\n                        '1980': '10377274',\n                        '1991': '13959402',\n                        '2000': '19268235',\n                        '2010': '24842716',\n                        '2022': '29712282'}},\n             {'localidade': {'id': '1',\n                             'nivel': {'id': 'N2', 'nome': 'Grande Região'},\n                             'nome': 'Norte'},\n              'serie': {'1900': '...',\n                        '1920': '...',\n                        '1940': '...',\n                        '1950': '...',\n                        '1960': '...',\n                        '1970': '...',\n                        '1980': '...',\n                        '1991': '...',\n                        '2000': '...',\n                        '2010': '...',\n                        '2022': '2330687'}}]},\n {'classificacoes': [{'categoria': {'3301': '50 a 59 anos'},\n                      'id': '58',\n                      'nome': 'Grupo de idade'}],\n  'series': [{'localidade': {'id': '1',\n                             'nivel': {'id': 'N1', 'nome': 'Brasil'},\n                             'nome': 'Brasil'},\n              'serie': {'1900': '771330',\n                        '1920': '1451319',\n                        '1940': '2044907',\n                        '1950': '2650314',\n                        '1960': '3752967',\n                        '1970': '5228732',\n                        '1980': '7250094',\n                        '1991': '9407252',\n                        '2000': '12507316',\n                        '2010': '18416623',\n                        '2022': '24167687'}},\n             {'localidade': {'id': '1',\n                             'nivel': {'id': 'N2', 'nome': 'Grande Região'},\n                             'nome': 'Norte'},\n              'serie': {'1900': '...',\n                        '1920': '...',\n                        '1940': '...',\n                        '1950': '...',\n                        '1960': '...',\n                        '1970': '...',\n                        '1980': '...',\n                        '1991': '...',\n                        '2000': '...',\n                        '2010': '...',\n                        '2022': '1629467'}}]},\n {'classificacoes': [{'categoria': {'3520': '60 a 69 anos'},\n                      'id': '58',\n                      'nome': 'Grupo de idade'}],\n  'series': [{'localidade': {'id': '1',\n                             'nivel': {'id': 'N1', 'nome': 'Brasil'},\n                             'nome': 'Brasil'},\n              'serie': {'1900': '355235',\n                        '1920': '800866',\n                        '1940': '1076139',\n                        '1950': '1451468',\n                        '1960': '2190638',\n                        '1970': '3007637',\n                        '1980': '4474511',\n                        '1991': '6412918',\n                        '2000': '8182035',\n                        '2010': '11349930',\n                        '2022': '17820621'}},\n             {'localidade': {'id': '1',\n                             'nivel': {'id': 'N2', 'nome': 'Grande Região'},\n                             'nome': 'Norte'},\n              'serie': {'1900': '...',\n                        '1920': '...',\n                        '1940': '...',\n                        '1950': '...',\n                        '1960': '...',\n                        '1970': '...',\n                        '1980': '...',\n                        '1991': '...',\n                        '2000': '...',\n                        '2010': '...',\n                        '2022': '1059995'}}]},\n {'classificacoes': [{'categoria': {'3244': '70 anos ou mais'},\n                      'id': '58',\n                      'nome': 'Grupo de idade'}],\n  'series': [{'localidade': {'id': '1',\n                             'nivel': {'id': 'N1', 'nome': 'Brasil'},\n                             'nome': 'Brasil'},\n              'serie': {'1900': '203164',\n                        '1920': '433310',\n                        '1940': '599395',\n                        '1950': '753873',\n                        '1960': '1140358',\n                        '1970': '1708571',\n                        '1980': '2741506',\n                        '1991': '4309787',\n                        '2000': '6353994',\n                        '2010': '9240667',\n                        '2022': '14292869'}},\n             {'localidade': {'id': '1',\n                             'nivel': {'id': 'N2', 'nome': 'Grande Região'},\n                             'nome': 'Norte'},\n              'serie': {'1900': '...',\n                        '1920': '...',\n                        '1940': '...',\n                        '1950': '...',\n                        '1960': '...',\n                        '1970': '...',\n                        '1980': '...',\n                        '1991': '...',\n                        '2000': '...',\n                        '2010': '...',\n                        '2022': '749078'}}]}]\n"
          ]
        }
      ],
      "source": [
        "# Link da API do IBGE\n",
        "\n",
        "link_IBGE = \"https://servicodados.ibge.gov.br/api/v3/agregados/1209/periodos/1900|1920|1940|1950|1960|1970|1980|1991|2000|2010|2022/variaveis/606?localidades=N1[all]|N2[1]&classificacao=58[1140,1141,1143,1144,1145,3299,3300,3301,3520,3244]\"\n",
        "\n",
        "# Extração dos dados a partir do request\n",
        "\n",
        "requisicao = requests.get(link_IBGE)\n",
        "\n",
        "# Verifica se a requisição foi bem-sucedida\n",
        "\n",
        "if requisicao.status_code == 200:\n",
        "    # Converte a resposta em formato JSON para um dicionário\n",
        "    info_populacao_norte = requisicao.json()\n",
        "else:\n",
        "    print(\"Erro na requisição: \", response.status_code)\n",
        "\n",
        "\n",
        "item_busca = info_populacao_norte[0][\"resultados\"]\n",
        "\n",
        "# Visualizar o JSON de forma mais organizada\n",
        "pprint.pprint(item_busca)"
      ]
    },
    {
      "cell_type": "code",
      "execution_count": null,
      "metadata": {
        "application/vnd.databricks.v1+cell": {
          "cellMetadata": {
            "byteLimit": 2048000,
            "rowLimit": 10000
          },
          "inputWidgets": {},
          "nuid": "b46f5e93-6fb2-4eda-912a-ab93f44ff292",
          "showTitle": false,
          "title": ""
        },
        "id": "d0f7MTpbjCHc",
        "outputId": "924adea4-97ba-4fea-9daf-f44a03b27667"
      },
      "outputs": [
        {
          "output_type": "stream",
          "name": "stdout",
          "text": [
            "['0 a 4 anos', '5 a 9 anos', '15 a 19 anos', '20 a 24 anos', '25 a 29 anos', '30 a 39 anos', '40 a 49 anos', '50 a 59 anos', '60 a 69 anos', '70 anos ou mais']\n['1900', '1920', '1940', '1950', '1960', '1970', '1980', '1991', '2000', '2010', '2022']\n"
          ]
        }
      ],
      "source": [
        "# Informações por categoria\n",
        "\n",
        "resultados = info_populacao_norte[0][\"resultados\"]\n",
        "categorias = []  # criar DF vazio\n",
        "\n",
        "# Estrutura de repetição para extrair as categorias\n",
        "for i in range(len(resultados)):\n",
        "    # print (resultados[i])\n",
        "    categorias.append(resultados[i][\"classificacoes\"][0][\"categoria\"].values())\n",
        "\n",
        "# Criando DataFrame a partir das categorias\n",
        "df_categorias = pd.DataFrame.from_dict(categorias)\n",
        "\n",
        "# Convertendo as categorias em uma lista\n",
        "lista_categorias = df_categorias[0].tolist()\n",
        "\n",
        "# Criando a lista de período/ano\n",
        "\n",
        "lista_anos = [\n",
        "    \"1900\",\n",
        "    \"1920\",\n",
        "    \"1940\",\n",
        "    \"1950\",\n",
        "    \"1960\",\n",
        "    \"1970\",\n",
        "    \"1980\",\n",
        "    \"1991\",\n",
        "    \"2000\",\n",
        "    \"2010\",\n",
        "    \"2022\",\n",
        "]\n",
        "\n",
        "# Visualização das listas\n",
        "print(lista_categorias)\n",
        "print(lista_anos)"
      ]
    },
    {
      "cell_type": "code",
      "execution_count": null,
      "metadata": {
        "application/vnd.databricks.v1+cell": {
          "cellMetadata": {
            "byteLimit": 2048000,
            "rowLimit": 10000
          },
          "inputWidgets": {},
          "nuid": "eee459ed-5510-4ece-9bc6-ef3d1bea82be",
          "showTitle": false,
          "title": ""
        },
        "id": "ZQu1i0BWjCHd",
        "outputId": "40b0c916-b077-443e-c399-351a936d0476"
      },
      "outputs": [
        {
          "output_type": "display_data",
          "data": {
            "text/html": [
              "<div>\n",
              "<style scoped>\n",
              "    .dataframe tbody tr th:only-of-type {\n",
              "        vertical-align: middle;\n",
              "    }\n",
              "\n",
              "    .dataframe tbody tr th {\n",
              "        vertical-align: top;\n",
              "    }\n",
              "\n",
              "    .dataframe thead th {\n",
              "        text-align: right;\n",
              "    }\n",
              "</style>\n",
              "<table border=\"1\" class=\"dataframe\">\n",
              "  <thead>\n",
              "    <tr style=\"text-align: right;\">\n",
              "      <th></th>\n",
              "      <th>0 a 4 anos</th>\n",
              "      <th>5 a 9 anos</th>\n",
              "      <th>15 a 19 anos</th>\n",
              "      <th>20 a 24 anos</th>\n",
              "      <th>25 a 29 anos</th>\n",
              "      <th>30 a 39 anos</th>\n",
              "      <th>40 a 49 anos</th>\n",
              "      <th>50 a 59 anos</th>\n",
              "      <th>60 a 69 anos</th>\n",
              "      <th>70 anos ou mais</th>\n",
              "    </tr>\n",
              "  </thead>\n",
              "  <tbody>\n",
              "    <tr>\n",
              "      <th>1900</th>\n",
              "      <td>3001523</td>\n",
              "      <td>2622485</td>\n",
              "      <td>1862761</td>\n",
              "      <td>1573072</td>\n",
              "      <td>1453300</td>\n",
              "      <td>2040009</td>\n",
              "      <td>1350029</td>\n",
              "      <td>771330</td>\n",
              "      <td>355235</td>\n",
              "      <td>203164</td>\n",
              "    </tr>\n",
              "    <tr>\n",
              "      <th>1920</th>\n",
              "      <td>4593163</td>\n",
              "      <td>4575530</td>\n",
              "      <td>4217917</td>\n",
              "      <td>2139364</td>\n",
              "      <td>2487431</td>\n",
              "      <td>3560225</td>\n",
              "      <td>2401200</td>\n",
              "      <td>1451319</td>\n",
              "      <td>800866</td>\n",
              "      <td>433310</td>\n",
              "    </tr>\n",
              "    <tr>\n",
              "      <th>1940</th>\n",
              "      <td>6439650</td>\n",
              "      <td>5758816</td>\n",
              "      <td>4443923</td>\n",
              "      <td>3813355</td>\n",
              "      <td>3356370</td>\n",
              "      <td>4901682</td>\n",
              "      <td>3441727</td>\n",
              "      <td>2044907</td>\n",
              "      <td>1076139</td>\n",
              "      <td>599395</td>\n",
              "    </tr>\n",
              "    <tr>\n",
              "      <th>1950</th>\n",
              "      <td>8370880</td>\n",
              "      <td>7015527</td>\n",
              "      <td>5502315</td>\n",
              "      <td>4991139</td>\n",
              "      <td>4132271</td>\n",
              "      <td>6286052</td>\n",
              "      <td>4365359</td>\n",
              "      <td>2650314</td>\n",
              "      <td>1451468</td>\n",
              "      <td>753873</td>\n",
              "    </tr>\n",
              "    <tr>\n",
              "      <th>1960</th>\n",
              "      <td>11193389</td>\n",
              "      <td>10158423</td>\n",
              "      <td>7174811</td>\n",
              "      <td>6237920</td>\n",
              "      <td>5245848</td>\n",
              "      <td>8486378</td>\n",
              "      <td>5950688</td>\n",
              "      <td>3752967</td>\n",
              "      <td>2190638</td>\n",
              "      <td>1140358</td>\n",
              "    </tr>\n",
              "    <tr>\n",
              "      <th>1970</th>\n",
              "      <td>13811806</td>\n",
              "      <td>13459508</td>\n",
              "      <td>10253283</td>\n",
              "      <td>8285805</td>\n",
              "      <td>6504069</td>\n",
              "      <td>10754252</td>\n",
              "      <td>8082277</td>\n",
              "      <td>5228732</td>\n",
              "      <td>3007637</td>\n",
              "      <td>1708571</td>\n",
              "    </tr>\n",
              "    <tr>\n",
              "      <th>1980</th>\n",
              "      <td>16423700</td>\n",
              "      <td>14773741</td>\n",
              "      <td>13575971</td>\n",
              "      <td>11513220</td>\n",
              "      <td>9442217</td>\n",
              "      <td>14039109</td>\n",
              "      <td>10377274</td>\n",
              "      <td>7250094</td>\n",
              "      <td>4474511</td>\n",
              "      <td>2741506</td>\n",
              "    </tr>\n",
              "    <tr>\n",
              "      <th>1991</th>\n",
              "      <td>16521114</td>\n",
              "      <td>17420159</td>\n",
              "      <td>15017472</td>\n",
              "      <td>13564878</td>\n",
              "      <td>12638078</td>\n",
              "      <td>20527256</td>\n",
              "      <td>13959402</td>\n",
              "      <td>9407252</td>\n",
              "      <td>6412918</td>\n",
              "      <td>4309787</td>\n",
              "    </tr>\n",
              "    <tr>\n",
              "      <th>2000</th>\n",
              "      <td>16375728</td>\n",
              "      <td>16542327</td>\n",
              "      <td>17939815</td>\n",
              "      <td>16141515</td>\n",
              "      <td>13849665</td>\n",
              "      <td>25290473</td>\n",
              "      <td>19268235</td>\n",
              "      <td>12507316</td>\n",
              "      <td>8182035</td>\n",
              "      <td>6353994</td>\n",
              "    </tr>\n",
              "    <tr>\n",
              "      <th>2010</th>\n",
              "      <td>13796158</td>\n",
              "      <td>14969375</td>\n",
              "      <td>16990872</td>\n",
              "      <td>17245192</td>\n",
              "      <td>17104414</td>\n",
              "      <td>29633091</td>\n",
              "      <td>24842716</td>\n",
              "      <td>18416623</td>\n",
              "      <td>11349930</td>\n",
              "      <td>9240667</td>\n",
              "    </tr>\n",
              "    <tr>\n",
              "      <th>2022</th>\n",
              "      <td>12704860</td>\n",
              "      <td>13749440</td>\n",
              "      <td>14375942</td>\n",
              "      <td>15466463</td>\n",
              "      <td>15469723</td>\n",
              "      <td>31645908</td>\n",
              "      <td>29712282</td>\n",
              "      <td>24167687</td>\n",
              "      <td>17820621</td>\n",
              "      <td>14292869</td>\n",
              "    </tr>\n",
              "  </tbody>\n",
              "</table>\n",
              "</div>"
            ]
          },
          "metadata": {
            "application/vnd.databricks.v1+output": {
              "addedWidgets": {},
              "arguments": {},
              "data": "<div>\n<style scoped>\n    .dataframe tbody tr th:only-of-type {\n        vertical-align: middle;\n    }\n\n    .dataframe tbody tr th {\n        vertical-align: top;\n    }\n\n    .dataframe thead th {\n        text-align: right;\n    }\n</style>\n<table border=\"1\" class=\"dataframe\">\n  <thead>\n    <tr style=\"text-align: right;\">\n      <th></th>\n      <th>0 a 4 anos</th>\n      <th>5 a 9 anos</th>\n      <th>15 a 19 anos</th>\n      <th>20 a 24 anos</th>\n      <th>25 a 29 anos</th>\n      <th>30 a 39 anos</th>\n      <th>40 a 49 anos</th>\n      <th>50 a 59 anos</th>\n      <th>60 a 69 anos</th>\n      <th>70 anos ou mais</th>\n    </tr>\n  </thead>\n  <tbody>\n    <tr>\n      <th>1900</th>\n      <td>3001523</td>\n      <td>2622485</td>\n      <td>1862761</td>\n      <td>1573072</td>\n      <td>1453300</td>\n      <td>2040009</td>\n      <td>1350029</td>\n      <td>771330</td>\n      <td>355235</td>\n      <td>203164</td>\n    </tr>\n    <tr>\n      <th>1920</th>\n      <td>4593163</td>\n      <td>4575530</td>\n      <td>4217917</td>\n      <td>2139364</td>\n      <td>2487431</td>\n      <td>3560225</td>\n      <td>2401200</td>\n      <td>1451319</td>\n      <td>800866</td>\n      <td>433310</td>\n    </tr>\n    <tr>\n      <th>1940</th>\n      <td>6439650</td>\n      <td>5758816</td>\n      <td>4443923</td>\n      <td>3813355</td>\n      <td>3356370</td>\n      <td>4901682</td>\n      <td>3441727</td>\n      <td>2044907</td>\n      <td>1076139</td>\n      <td>599395</td>\n    </tr>\n    <tr>\n      <th>1950</th>\n      <td>8370880</td>\n      <td>7015527</td>\n      <td>5502315</td>\n      <td>4991139</td>\n      <td>4132271</td>\n      <td>6286052</td>\n      <td>4365359</td>\n      <td>2650314</td>\n      <td>1451468</td>\n      <td>753873</td>\n    </tr>\n    <tr>\n      <th>1960</th>\n      <td>11193389</td>\n      <td>10158423</td>\n      <td>7174811</td>\n      <td>6237920</td>\n      <td>5245848</td>\n      <td>8486378</td>\n      <td>5950688</td>\n      <td>3752967</td>\n      <td>2190638</td>\n      <td>1140358</td>\n    </tr>\n    <tr>\n      <th>1970</th>\n      <td>13811806</td>\n      <td>13459508</td>\n      <td>10253283</td>\n      <td>8285805</td>\n      <td>6504069</td>\n      <td>10754252</td>\n      <td>8082277</td>\n      <td>5228732</td>\n      <td>3007637</td>\n      <td>1708571</td>\n    </tr>\n    <tr>\n      <th>1980</th>\n      <td>16423700</td>\n      <td>14773741</td>\n      <td>13575971</td>\n      <td>11513220</td>\n      <td>9442217</td>\n      <td>14039109</td>\n      <td>10377274</td>\n      <td>7250094</td>\n      <td>4474511</td>\n      <td>2741506</td>\n    </tr>\n    <tr>\n      <th>1991</th>\n      <td>16521114</td>\n      <td>17420159</td>\n      <td>15017472</td>\n      <td>13564878</td>\n      <td>12638078</td>\n      <td>20527256</td>\n      <td>13959402</td>\n      <td>9407252</td>\n      <td>6412918</td>\n      <td>4309787</td>\n    </tr>\n    <tr>\n      <th>2000</th>\n      <td>16375728</td>\n      <td>16542327</td>\n      <td>17939815</td>\n      <td>16141515</td>\n      <td>13849665</td>\n      <td>25290473</td>\n      <td>19268235</td>\n      <td>12507316</td>\n      <td>8182035</td>\n      <td>6353994</td>\n    </tr>\n    <tr>\n      <th>2010</th>\n      <td>13796158</td>\n      <td>14969375</td>\n      <td>16990872</td>\n      <td>17245192</td>\n      <td>17104414</td>\n      <td>29633091</td>\n      <td>24842716</td>\n      <td>18416623</td>\n      <td>11349930</td>\n      <td>9240667</td>\n    </tr>\n    <tr>\n      <th>2022</th>\n      <td>12704860</td>\n      <td>13749440</td>\n      <td>14375942</td>\n      <td>15466463</td>\n      <td>15469723</td>\n      <td>31645908</td>\n      <td>29712282</td>\n      <td>24167687</td>\n      <td>17820621</td>\n      <td>14292869</td>\n    </tr>\n  </tbody>\n</table>\n</div>",
              "datasetInfos": [],
              "metadata": {},
              "removedWidgets": [],
              "textData": null,
              "type": "htmlSandbox"
            }
          }
        }
      ],
      "source": [
        "# Informações por serie\n",
        "resultados = info_populacao_norte[0][\"resultados\"]\n",
        "serie = []\n",
        "\n",
        "# Estrutura de repetição para extrair todos os dados por período/ano e categorias\n",
        "for i in range(len(resultados)):\n",
        "    serie.append(resultados[i][\"series\"][0][\"serie\"].values())\n",
        "\n",
        "# Criando DataFrame a partir da serie\n",
        "df_teste = pd.DataFrame.from_dict(serie)\n",
        "\n",
        "# Organizando em colunas\n",
        "df_teste = df_teste.T\n",
        "\n",
        "# Renomeando as colunas a partir da lista de categorias\n",
        "df_teste.columns = lista_categorias\n",
        "\n",
        "# Renomeando as linhas a partir da lista de anos\n",
        "df_teste.index = lista_anos\n",
        "\n",
        "df_teste"
      ]
    },
    {
      "cell_type": "code",
      "execution_count": null,
      "metadata": {
        "application/vnd.databricks.v1+cell": {
          "cellMetadata": {
            "byteLimit": 2048000,
            "rowLimit": 10000
          },
          "inputWidgets": {},
          "nuid": "d930eb5e-03e7-49a2-a3f8-04b1ce560f9a",
          "showTitle": false,
          "title": ""
        },
        "jupyter": {
          "outputs_hidden": true,
          "source_hidden": true
        },
        "id": "eel22sO-jCHf",
        "outputId": "7a77e78e-370d-46be-9a8f-c6e1a880f176"
      },
      "outputs": [
        {
          "output_type": "display_data",
          "data": {
            "text/html": [
              "<style scoped>\n",
              "  .table-result-container {\n",
              "    max-height: 300px;\n",
              "    overflow: auto;\n",
              "  }\n",
              "  table, th, td {\n",
              "    border: 1px solid black;\n",
              "    border-collapse: collapse;\n",
              "  }\n",
              "  th, td {\n",
              "    padding: 5px;\n",
              "  }\n",
              "  th {\n",
              "    text-align: left;\n",
              "  }\n",
              "</style><div class='table-result-container'><table class='table-result'><thead style='background-color: white'><tr><th>Ano</th><th>Populacao</th><th>Categoria</th></tr></thead><tbody><tr><td>1900</td><td>2622485</td><td>0 a 4 anos</td></tr><tr><td>1920</td><td>4575530</td><td>0 a 4 anos</td></tr><tr><td>1940</td><td>5758816</td><td>0 a 4 anos</td></tr><tr><td>1950</td><td>7015527</td><td>0 a 4 anos</td></tr><tr><td>1960</td><td>10158423</td><td>0 a 4 anos</td></tr><tr><td>1970</td><td>13459508</td><td>0 a 4 anos</td></tr><tr><td>1980</td><td>14773741</td><td>0 a 4 anos</td></tr><tr><td>1991</td><td>17420159</td><td>0 a 4 anos</td></tr><tr><td>2000</td><td>16542327</td><td>0 a 4 anos</td></tr><tr><td>2010</td><td>14969375</td><td>0 a 4 anos</td></tr><tr><td>2022</td><td>13749440</td><td>0 a 4 anos</td></tr><tr><td>1900</td><td>2622485</td><td>5 a 9 anos</td></tr><tr><td>1920</td><td>4575530</td><td>5 a 9 anos</td></tr><tr><td>1940</td><td>5758816</td><td>5 a 9 anos</td></tr><tr><td>1950</td><td>7015527</td><td>5 a 9 anos</td></tr><tr><td>1960</td><td>10158423</td><td>5 a 9 anos</td></tr><tr><td>1970</td><td>13459508</td><td>5 a 9 anos</td></tr><tr><td>1980</td><td>14773741</td><td>5 a 9 anos</td></tr><tr><td>1991</td><td>17420159</td><td>5 a 9 anos</td></tr><tr><td>2000</td><td>16542327</td><td>5 a 9 anos</td></tr><tr><td>2010</td><td>14969375</td><td>5 a 9 anos</td></tr><tr><td>2022</td><td>13749440</td><td>5 a 9 anos</td></tr><tr><td>1900</td><td>1862761</td><td>15 a 19 anos</td></tr><tr><td>1920</td><td>4217917</td><td>15 a 19 anos</td></tr><tr><td>1940</td><td>4443923</td><td>15 a 19 anos</td></tr><tr><td>1950</td><td>5502315</td><td>15 a 19 anos</td></tr><tr><td>1960</td><td>7174811</td><td>15 a 19 anos</td></tr><tr><td>1970</td><td>10253283</td><td>15 a 19 anos</td></tr><tr><td>1980</td><td>13575971</td><td>15 a 19 anos</td></tr><tr><td>1991</td><td>15017472</td><td>15 a 19 anos</td></tr><tr><td>2000</td><td>17939815</td><td>15 a 19 anos</td></tr><tr><td>2010</td><td>16990872</td><td>15 a 19 anos</td></tr><tr><td>2022</td><td>14375942</td><td>15 a 19 anos</td></tr><tr><td>1900</td><td>1573072</td><td>20 a 24 anos</td></tr><tr><td>1920</td><td>2139364</td><td>20 a 24 anos</td></tr><tr><td>1940</td><td>3813355</td><td>20 a 24 anos</td></tr><tr><td>1950</td><td>4991139</td><td>20 a 24 anos</td></tr><tr><td>1960</td><td>6237920</td><td>20 a 24 anos</td></tr><tr><td>1970</td><td>8285805</td><td>20 a 24 anos</td></tr><tr><td>1980</td><td>11513220</td><td>20 a 24 anos</td></tr><tr><td>1991</td><td>13564878</td><td>20 a 24 anos</td></tr><tr><td>2000</td><td>16141515</td><td>20 a 24 anos</td></tr><tr><td>2010</td><td>17245192</td><td>20 a 24 anos</td></tr><tr><td>2022</td><td>15466463</td><td>20 a 24 anos</td></tr><tr><td>1900</td><td>1453300</td><td>25 a 29 anos</td></tr><tr><td>1920</td><td>2487431</td><td>25 a 29 anos</td></tr><tr><td>1940</td><td>3356370</td><td>25 a 29 anos</td></tr><tr><td>1950</td><td>4132271</td><td>25 a 29 anos</td></tr><tr><td>1960</td><td>5245848</td><td>25 a 29 anos</td></tr><tr><td>1970</td><td>6504069</td><td>25 a 29 anos</td></tr><tr><td>1980</td><td>9442217</td><td>25 a 29 anos</td></tr><tr><td>1991</td><td>12638078</td><td>25 a 29 anos</td></tr><tr><td>2000</td><td>13849665</td><td>25 a 29 anos</td></tr><tr><td>2010</td><td>17104414</td><td>25 a 29 anos</td></tr><tr><td>2022</td><td>15469723</td><td>25 a 29 anos</td></tr><tr><td>1900</td><td>2040009</td><td>30 a 39 anos</td></tr><tr><td>1920</td><td>3560225</td><td>30 a 39 anos</td></tr><tr><td>1940</td><td>4901682</td><td>30 a 39 anos</td></tr><tr><td>1950</td><td>6286052</td><td>30 a 39 anos</td></tr><tr><td>1960</td><td>8486378</td><td>30 a 39 anos</td></tr><tr><td>1970</td><td>10754252</td><td>30 a 39 anos</td></tr><tr><td>1980</td><td>14039109</td><td>30 a 39 anos</td></tr><tr><td>1991</td><td>20527256</td><td>30 a 39 anos</td></tr><tr><td>2000</td><td>25290473</td><td>30 a 39 anos</td></tr><tr><td>2010</td><td>29633091</td><td>30 a 39 anos</td></tr><tr><td>2022</td><td>31645908</td><td>30 a 39 anos</td></tr><tr><td>1900</td><td>1350029</td><td>40 a 49 anos</td></tr><tr><td>1920</td><td>2401200</td><td>40 a 49 anos</td></tr><tr><td>1940</td><td>3441727</td><td>40 a 49 anos</td></tr><tr><td>1950</td><td>4365359</td><td>40 a 49 anos</td></tr><tr><td>1960</td><td>5950688</td><td>40 a 49 anos</td></tr><tr><td>1970</td><td>8082277</td><td>40 a 49 anos</td></tr><tr><td>1980</td><td>10377274</td><td>40 a 49 anos</td></tr><tr><td>1991</td><td>13959402</td><td>40 a 49 anos</td></tr><tr><td>2000</td><td>19268235</td><td>40 a 49 anos</td></tr><tr><td>2010</td><td>24842716</td><td>40 a 49 anos</td></tr><tr><td>2022</td><td>29712282</td><td>40 a 49 anos</td></tr><tr><td>1900</td><td>771330</td><td>50 a 59 anos</td></tr><tr><td>1920</td><td>1451319</td><td>50 a 59 anos</td></tr><tr><td>1940</td><td>2044907</td><td>50 a 59 anos</td></tr><tr><td>1950</td><td>2650314</td><td>50 a 59 anos</td></tr><tr><td>1960</td><td>3752967</td><td>50 a 59 anos</td></tr><tr><td>1970</td><td>5228732</td><td>50 a 59 anos</td></tr><tr><td>1980</td><td>7250094</td><td>50 a 59 anos</td></tr><tr><td>1991</td><td>9407252</td><td>50 a 59 anos</td></tr><tr><td>2000</td><td>12507316</td><td>50 a 59 anos</td></tr><tr><td>2010</td><td>18416623</td><td>50 a 59 anos</td></tr><tr><td>2022</td><td>24167687</td><td>50 a 59 anos</td></tr><tr><td>1900</td><td>355235</td><td>60 a 69 anos</td></tr><tr><td>1920</td><td>800866</td><td>60 a 69 anos</td></tr><tr><td>1940</td><td>1076139</td><td>60 a 69 anos</td></tr><tr><td>1950</td><td>1451468</td><td>60 a 69 anos</td></tr><tr><td>1960</td><td>2190638</td><td>60 a 69 anos</td></tr><tr><td>1970</td><td>3007637</td><td>60 a 69 anos</td></tr><tr><td>1980</td><td>4474511</td><td>60 a 69 anos</td></tr><tr><td>1991</td><td>6412918</td><td>60 a 69 anos</td></tr><tr><td>2000</td><td>8182035</td><td>60 a 69 anos</td></tr><tr><td>2010</td><td>11349930</td><td>60 a 69 anos</td></tr><tr><td>2022</td><td>17820621</td><td>60 a 69 anos</td></tr><tr><td>1900</td><td>203164</td><td>70 anos ou mais</td></tr><tr><td>1920</td><td>433310</td><td>70 anos ou mais</td></tr><tr><td>1940</td><td>599395</td><td>70 anos ou mais</td></tr><tr><td>1950</td><td>753873</td><td>70 anos ou mais</td></tr><tr><td>1960</td><td>1140358</td><td>70 anos ou mais</td></tr><tr><td>1970</td><td>1708571</td><td>70 anos ou mais</td></tr><tr><td>1980</td><td>2741506</td><td>70 anos ou mais</td></tr><tr><td>1991</td><td>4309787</td><td>70 anos ou mais</td></tr><tr><td>2000</td><td>6353994</td><td>70 anos ou mais</td></tr><tr><td>2010</td><td>9240667</td><td>70 anos ou mais</td></tr><tr><td>2022</td><td>14292869</td><td>70 anos ou mais</td></tr></tbody></table></div>"
            ]
          },
          "metadata": {
            "application/vnd.databricks.v1+output": {
              "addedWidgets": {},
              "aggData": [],
              "aggError": "",
              "aggOverflow": false,
              "aggSchema": [],
              "aggSeriesLimitReached": false,
              "aggType": "",
              "arguments": {},
              "columnCustomDisplayInfos": {},
              "data": [
                [
                  1900,
                  2622485,
                  "0 a 4 anos"
                ],
                [
                  1920,
                  4575530,
                  "0 a 4 anos"
                ],
                [
                  1940,
                  5758816,
                  "0 a 4 anos"
                ],
                [
                  1950,
                  7015527,
                  "0 a 4 anos"
                ],
                [
                  1960,
                  10158423,
                  "0 a 4 anos"
                ],
                [
                  1970,
                  13459508,
                  "0 a 4 anos"
                ],
                [
                  1980,
                  14773741,
                  "0 a 4 anos"
                ],
                [
                  1991,
                  17420159,
                  "0 a 4 anos"
                ],
                [
                  2000,
                  16542327,
                  "0 a 4 anos"
                ],
                [
                  2010,
                  14969375,
                  "0 a 4 anos"
                ],
                [
                  2022,
                  13749440,
                  "0 a 4 anos"
                ],
                [
                  1900,
                  2622485,
                  "5 a 9 anos"
                ],
                [
                  1920,
                  4575530,
                  "5 a 9 anos"
                ],
                [
                  1940,
                  5758816,
                  "5 a 9 anos"
                ],
                [
                  1950,
                  7015527,
                  "5 a 9 anos"
                ],
                [
                  1960,
                  10158423,
                  "5 a 9 anos"
                ],
                [
                  1970,
                  13459508,
                  "5 a 9 anos"
                ],
                [
                  1980,
                  14773741,
                  "5 a 9 anos"
                ],
                [
                  1991,
                  17420159,
                  "5 a 9 anos"
                ],
                [
                  2000,
                  16542327,
                  "5 a 9 anos"
                ],
                [
                  2010,
                  14969375,
                  "5 a 9 anos"
                ],
                [
                  2022,
                  13749440,
                  "5 a 9 anos"
                ],
                [
                  1900,
                  1862761,
                  "15 a 19 anos"
                ],
                [
                  1920,
                  4217917,
                  "15 a 19 anos"
                ],
                [
                  1940,
                  4443923,
                  "15 a 19 anos"
                ],
                [
                  1950,
                  5502315,
                  "15 a 19 anos"
                ],
                [
                  1960,
                  7174811,
                  "15 a 19 anos"
                ],
                [
                  1970,
                  10253283,
                  "15 a 19 anos"
                ],
                [
                  1980,
                  13575971,
                  "15 a 19 anos"
                ],
                [
                  1991,
                  15017472,
                  "15 a 19 anos"
                ],
                [
                  2000,
                  17939815,
                  "15 a 19 anos"
                ],
                [
                  2010,
                  16990872,
                  "15 a 19 anos"
                ],
                [
                  2022,
                  14375942,
                  "15 a 19 anos"
                ],
                [
                  1900,
                  1573072,
                  "20 a 24 anos"
                ],
                [
                  1920,
                  2139364,
                  "20 a 24 anos"
                ],
                [
                  1940,
                  3813355,
                  "20 a 24 anos"
                ],
                [
                  1950,
                  4991139,
                  "20 a 24 anos"
                ],
                [
                  1960,
                  6237920,
                  "20 a 24 anos"
                ],
                [
                  1970,
                  8285805,
                  "20 a 24 anos"
                ],
                [
                  1980,
                  11513220,
                  "20 a 24 anos"
                ],
                [
                  1991,
                  13564878,
                  "20 a 24 anos"
                ],
                [
                  2000,
                  16141515,
                  "20 a 24 anos"
                ],
                [
                  2010,
                  17245192,
                  "20 a 24 anos"
                ],
                [
                  2022,
                  15466463,
                  "20 a 24 anos"
                ],
                [
                  1900,
                  1453300,
                  "25 a 29 anos"
                ],
                [
                  1920,
                  2487431,
                  "25 a 29 anos"
                ],
                [
                  1940,
                  3356370,
                  "25 a 29 anos"
                ],
                [
                  1950,
                  4132271,
                  "25 a 29 anos"
                ],
                [
                  1960,
                  5245848,
                  "25 a 29 anos"
                ],
                [
                  1970,
                  6504069,
                  "25 a 29 anos"
                ],
                [
                  1980,
                  9442217,
                  "25 a 29 anos"
                ],
                [
                  1991,
                  12638078,
                  "25 a 29 anos"
                ],
                [
                  2000,
                  13849665,
                  "25 a 29 anos"
                ],
                [
                  2010,
                  17104414,
                  "25 a 29 anos"
                ],
                [
                  2022,
                  15469723,
                  "25 a 29 anos"
                ],
                [
                  1900,
                  2040009,
                  "30 a 39 anos"
                ],
                [
                  1920,
                  3560225,
                  "30 a 39 anos"
                ],
                [
                  1940,
                  4901682,
                  "30 a 39 anos"
                ],
                [
                  1950,
                  6286052,
                  "30 a 39 anos"
                ],
                [
                  1960,
                  8486378,
                  "30 a 39 anos"
                ],
                [
                  1970,
                  10754252,
                  "30 a 39 anos"
                ],
                [
                  1980,
                  14039109,
                  "30 a 39 anos"
                ],
                [
                  1991,
                  20527256,
                  "30 a 39 anos"
                ],
                [
                  2000,
                  25290473,
                  "30 a 39 anos"
                ],
                [
                  2010,
                  29633091,
                  "30 a 39 anos"
                ],
                [
                  2022,
                  31645908,
                  "30 a 39 anos"
                ],
                [
                  1900,
                  1350029,
                  "40 a 49 anos"
                ],
                [
                  1920,
                  2401200,
                  "40 a 49 anos"
                ],
                [
                  1940,
                  3441727,
                  "40 a 49 anos"
                ],
                [
                  1950,
                  4365359,
                  "40 a 49 anos"
                ],
                [
                  1960,
                  5950688,
                  "40 a 49 anos"
                ],
                [
                  1970,
                  8082277,
                  "40 a 49 anos"
                ],
                [
                  1980,
                  10377274,
                  "40 a 49 anos"
                ],
                [
                  1991,
                  13959402,
                  "40 a 49 anos"
                ],
                [
                  2000,
                  19268235,
                  "40 a 49 anos"
                ],
                [
                  2010,
                  24842716,
                  "40 a 49 anos"
                ],
                [
                  2022,
                  29712282,
                  "40 a 49 anos"
                ],
                [
                  1900,
                  771330,
                  "50 a 59 anos"
                ],
                [
                  1920,
                  1451319,
                  "50 a 59 anos"
                ],
                [
                  1940,
                  2044907,
                  "50 a 59 anos"
                ],
                [
                  1950,
                  2650314,
                  "50 a 59 anos"
                ],
                [
                  1960,
                  3752967,
                  "50 a 59 anos"
                ],
                [
                  1970,
                  5228732,
                  "50 a 59 anos"
                ],
                [
                  1980,
                  7250094,
                  "50 a 59 anos"
                ],
                [
                  1991,
                  9407252,
                  "50 a 59 anos"
                ],
                [
                  2000,
                  12507316,
                  "50 a 59 anos"
                ],
                [
                  2010,
                  18416623,
                  "50 a 59 anos"
                ],
                [
                  2022,
                  24167687,
                  "50 a 59 anos"
                ],
                [
                  1900,
                  355235,
                  "60 a 69 anos"
                ],
                [
                  1920,
                  800866,
                  "60 a 69 anos"
                ],
                [
                  1940,
                  1076139,
                  "60 a 69 anos"
                ],
                [
                  1950,
                  1451468,
                  "60 a 69 anos"
                ],
                [
                  1960,
                  2190638,
                  "60 a 69 anos"
                ],
                [
                  1970,
                  3007637,
                  "60 a 69 anos"
                ],
                [
                  1980,
                  4474511,
                  "60 a 69 anos"
                ],
                [
                  1991,
                  6412918,
                  "60 a 69 anos"
                ],
                [
                  2000,
                  8182035,
                  "60 a 69 anos"
                ],
                [
                  2010,
                  11349930,
                  "60 a 69 anos"
                ],
                [
                  2022,
                  17820621,
                  "60 a 69 anos"
                ],
                [
                  1900,
                  203164,
                  "70 anos ou mais"
                ],
                [
                  1920,
                  433310,
                  "70 anos ou mais"
                ],
                [
                  1940,
                  599395,
                  "70 anos ou mais"
                ],
                [
                  1950,
                  753873,
                  "70 anos ou mais"
                ],
                [
                  1960,
                  1140358,
                  "70 anos ou mais"
                ],
                [
                  1970,
                  1708571,
                  "70 anos ou mais"
                ],
                [
                  1980,
                  2741506,
                  "70 anos ou mais"
                ],
                [
                  1991,
                  4309787,
                  "70 anos ou mais"
                ],
                [
                  2000,
                  6353994,
                  "70 anos ou mais"
                ],
                [
                  2010,
                  9240667,
                  "70 anos ou mais"
                ],
                [
                  2022,
                  14292869,
                  "70 anos ou mais"
                ]
              ],
              "datasetInfos": [],
              "dbfsResultPath": null,
              "isJsonSchema": true,
              "metadata": {},
              "overflow": false,
              "plotOptions": {
                "customPlotOptions": {},
                "displayType": "table",
                "pivotAggregation": null,
                "pivotColumns": null,
                "xColumns": null,
                "yColumns": null
              },
              "removedWidgets": [],
              "schema": [
                {
                  "metadata": "{}",
                  "name": "Ano",
                  "type": "\"long\""
                },
                {
                  "metadata": "{}",
                  "name": "Populacao",
                  "type": "\"long\""
                },
                {
                  "metadata": "{}",
                  "name": "Categoria",
                  "type": "\"string\""
                }
              ],
              "type": "table"
            }
          }
        }
      ],
      "source": [
        "\n",
        "#Declarando a categoria\n",
        "values_1140= info_populacao_norte[0]['resultados'][0]['classificacoes'][0]['categoria']['1140']\n",
        "#Convertendo o dicionário em dataframe\n",
        "categoria_1140 = [info_populacao_norte [0] ['resultados'][1]['series'][0]['serie']]\n",
        "df_categoria_1140= pd.DataFrame (categoria_1140)\n",
        "#Organizando a lista em colunas\n",
        "df_categoria_1140= df_categoria_1140.T\n",
        "#Renomeando o nome das colunas\n",
        "df_categoria_1140.rename(columns = {0: 'Populacao'}, inplace = True)\n",
        "df_categoria_1140= df_categoria_1140.rename_axis ('Ano').reset_index()\n",
        "#Criando uma coluna de categoria com base na variável \"values\" declarada\n",
        "df_categoria_1140['Categoria'] = [values_1140] * len(df_categoria_1140)\n",
        "\n",
        "#Criando esse mesmo processo para as demais categorias\n",
        "\n",
        "values_1141= info_populacao_norte[0]['resultados'][1]['classificacoes'][0]['categoria']['1141']\n",
        "categoria_1141 = [info_populacao_norte [0] ['resultados'][1]['series'][0]['serie']]\n",
        "df_categoria_1141= pd.DataFrame (categoria_1141)\n",
        "df_categoria_1141= df_categoria_1141.T\n",
        "df_categoria_1141.rename(columns = {0: 'Populacao'}, inplace = True)\n",
        "df_categoria_1141= df_categoria_1141.rename_axis ('Ano').reset_index()\n",
        "df_categoria_1141['Categoria'] = [values_1141] * len(df_categoria_1141)\n",
        "\n",
        "\n",
        "values_1143 = info_populacao_norte[0]['resultados'][2]['classificacoes'][0]['categoria']['1143']\n",
        "categoria_1143 = [info_populacao_norte [0] ['resultados'][2]['series'][0]['serie']]\n",
        "df_categoria_1143= pd.DataFrame (categoria_1143)\n",
        "df_categoria_1143= df_categoria_1143.T\n",
        "df_categoria_1143.rename(columns = {0: 'Populacao'}, inplace = True)\n",
        "df_categoria_1143= df_categoria_1143.rename_axis ('Ano').reset_index()\n",
        "df_categoria_1143['Categoria'] = [values_1143] * len(df_categoria_1143)\n",
        "\n",
        "\n",
        "values_1144 = info_populacao_norte[0]['resultados'][3]['classificacoes'][0]['categoria']['1144']\n",
        "categoria_1144 = [info_populacao_norte [0] ['resultados'][3]['series'][0]['serie']]\n",
        "df_categoria_1144= pd.DataFrame (categoria_1144)\n",
        "df_categoria_1144= df_categoria_1144.T\n",
        "df_categoria_1144.rename(columns = {0: 'Populacao'}, inplace = True)\n",
        "df_categoria_1144= df_categoria_1144.rename_axis ('Ano').reset_index()\n",
        "df_categoria_1144['Categoria'] = [values_1144] * len(df_categoria_1144)\n",
        "\n",
        "\n",
        "values_1145 = info_populacao_norte[0]['resultados'][4]['classificacoes'][0]['categoria']['1145']\n",
        "categoria_1145= [info_populacao_norte [0] ['resultados'][4]['series'][0]['serie']]\n",
        "df_categoria_1145= pd.DataFrame (categoria_1145)\n",
        "df_categoria_1145= df_categoria_1145.T\n",
        "df_categoria_1145.rename(columns = {0: 'Populacao'}, inplace = True)\n",
        "df_categoria_1145= df_categoria_1145.rename_axis ('Ano').reset_index()\n",
        "df_categoria_1145['Categoria'] = [values_1145] * len(df_categoria_1145)\n",
        "\n",
        "\n",
        "values_3299 = info_populacao_norte[0]['resultados'][5]['classificacoes'][0]['categoria']['3299']\n",
        "categoria_3299 = [info_populacao_norte [0] ['resultados'][5]['series'][0]['serie']]\n",
        "df_categoria_3299 = pd.DataFrame (categoria_3299 )\n",
        "df_categoria_3299 = df_categoria_3299 .T\n",
        "df_categoria_3299.rename(columns = {0: 'Populacao'}, inplace = True)\n",
        "df_categoria_3299= df_categoria_3299.rename_axis ('Ano').reset_index()\n",
        "df_categoria_3299['Categoria'] = [values_3299] * len(df_categoria_3299)\n",
        "\n",
        "\n",
        "values_3300 = info_populacao_norte[0]['resultados'][6]['classificacoes'][0]['categoria']['3300']\n",
        "categoria_3300 =  [info_populacao_norte [0] ['resultados'][6]['series'][0]['serie']]\n",
        "df_categoria_3300 = pd.DataFrame (categoria_3300)\n",
        "df_categoria_3300 = df_categoria_3300.T\n",
        "df_categoria_3300.rename(columns = {0: 'Populacao'}, inplace = True)\n",
        "df_categoria_3300= df_categoria_3300.rename_axis ('Ano').reset_index()\n",
        "df_categoria_3300['Categoria'] = [values_3300] * len(df_categoria_3300)\n",
        "\n",
        "\n",
        "values_3301 = info_populacao_norte[0]['resultados'][7]['classificacoes'][0]['categoria']['3301']\n",
        "categoria_3301 = [info_populacao_norte [0] ['resultados'][7]['series'][0]['serie']]\n",
        "df_categoria_3301 = pd.DataFrame (categoria_3301)\n",
        "df_categoria_3301 = df_categoria_3301.T\n",
        "df_categoria_3301.rename(columns = {0: 'Populacao'}, inplace = True)\n",
        "df_categoria_3301= df_categoria_3301.rename_axis ('Ano').reset_index()\n",
        "df_categoria_3301['Categoria'] = [values_3301] * len(df_categoria_3301)\n",
        "\n",
        "\n",
        "values_3520 = info_populacao_norte[0]['resultados'][8]['classificacoes'][0]['categoria']['3520']\n",
        "categoria_3520 = [info_populacao_norte [0] ['resultados'][8]['series'][0]['serie']]\n",
        "df_categoria_3520 = pd.DataFrame (categoria_3520)\n",
        "df_categoria_3520 = df_categoria_3520.T\n",
        "df_categoria_3520.rename(columns = {0: 'Populacao'}, inplace = True)\n",
        "df_categoria_3520= df_categoria_3520.rename_axis ('Ano').reset_index()\n",
        "df_categoria_3520['Categoria'] = [values_3520] * len(df_categoria_3520)\n",
        "\n",
        "\n",
        "values_3244 = info_populacao_norte[0]['resultados'][9]['classificacoes'][0]['categoria']['3244']\n",
        "categoria_3244 = [info_populacao_norte [0] ['resultados'][9]['series'][0]['serie']]\n",
        "df_categoria_3244= pd.DataFrame (categoria_3244)\n",
        "df_categoria_3244= df_categoria_3244.T\n",
        "df_categoria_3244.rename(columns = {0: 'Populacao'}, inplace = True)\n",
        "df_categoria_3244= df_categoria_3244.rename_axis ('Ano').reset_index()\n",
        "df_categoria_3244['Categoria'] = [values_3244] * len(df_categoria_3244)\n",
        "\n",
        "\n",
        "#Uniao dos dataframes declarados anteriormentes\n",
        "df_union = pd.concat([df_categoria_1140,df_categoria_1141,df_categoria_1143,df_categoria_1144,df_categoria_1145,df_categoria_3299,df_categoria_3300,df_categoria_3301,df_categoria_3520,df_categoria_3244], ignore_index=True)\n",
        "\n",
        "\n",
        "#Formatação dos dados por coluna\n",
        "df_union['Ano'] = df_union['Ano'].astype(int)\n",
        "df_union['Populacao'] = df_union['Populacao'].astype(int)\n",
        "df_union['Categoria'] = df_union['Categoria'].astype(str)\n",
        "\n",
        "# Base final\n",
        "display(df_union)\n",
        "df_union.to_excel('tabela.xlsx', index=False)\n"
      ]
    }
  ],
  "metadata": {
    "application/vnd.databricks.v1+notebook": {
      "dashboards": [],
      "language": "python",
      "notebookMetadata": {
        "mostRecentlyExecutedCommandWithImplicitDF": {
          "commandId": 981928952652792,
          "dataframes": [
            "_sqldf"
          ]
        },
        "pythonIndentUnit": 4
      },
      "notebookName": "API_IBGE_Dados_Populacionais_PIB",
      "widgets": {}
    },
    "colab": {
      "provenance": [],
      "include_colab_link": true
    }
  },
  "nbformat": 4,
  "nbformat_minor": 0
}